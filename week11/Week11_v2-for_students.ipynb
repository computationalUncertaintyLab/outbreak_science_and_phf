{
 "cells": [
  {
   "cell_type": "markdown",
   "metadata": {},
   "source": [
    "## Week11 Lab\n",
    "\n",
    "In this lab we will fit SIR and SEIR models to **real** trajectories of incident hospitalizations in the US.\n"
   ]
  },
  {
   "cell_type": "code",
   "execution_count": 2,
   "metadata": {},
   "outputs": [
    {
     "data": {
      "text/html": [
       "<div>\n",
       "<style scoped>\n",
       "    .dataframe tbody tr th:only-of-type {\n",
       "        vertical-align: middle;\n",
       "    }\n",
       "\n",
       "    .dataframe tbody tr th {\n",
       "        vertical-align: top;\n",
       "    }\n",
       "\n",
       "    .dataframe thead th {\n",
       "        text-align: right;\n",
       "    }\n",
       "</style>\n",
       "<table border=\"1\" class=\"dataframe\">\n",
       "  <thead>\n",
       "    <tr style=\"text-align: right;\">\n",
       "      <th></th>\n",
       "      <th>date</th>\n",
       "      <th>location</th>\n",
       "      <th>location_name</th>\n",
       "      <th>value</th>\n",
       "      <th>abbreviation</th>\n",
       "      <th>population</th>\n",
       "      <th>count_rate1per100k</th>\n",
       "      <th>count_rate2per100k</th>\n",
       "    </tr>\n",
       "  </thead>\n",
       "  <tbody>\n",
       "    <tr>\n",
       "      <th>138</th>\n",
       "      <td>2022-09-03</td>\n",
       "      <td>01</td>\n",
       "      <td>Alabama</td>\n",
       "      <td>21</td>\n",
       "      <td>AL</td>\n",
       "      <td>5039877</td>\n",
       "      <td>50</td>\n",
       "      <td>101</td>\n",
       "    </tr>\n",
       "    <tr>\n",
       "      <th>139</th>\n",
       "      <td>2022-09-10</td>\n",
       "      <td>01</td>\n",
       "      <td>Alabama</td>\n",
       "      <td>11</td>\n",
       "      <td>AL</td>\n",
       "      <td>5039877</td>\n",
       "      <td>50</td>\n",
       "      <td>101</td>\n",
       "    </tr>\n",
       "    <tr>\n",
       "      <th>140</th>\n",
       "      <td>2022-09-17</td>\n",
       "      <td>01</td>\n",
       "      <td>Alabama</td>\n",
       "      <td>17</td>\n",
       "      <td>AL</td>\n",
       "      <td>5039877</td>\n",
       "      <td>50</td>\n",
       "      <td>101</td>\n",
       "    </tr>\n",
       "    <tr>\n",
       "      <th>141</th>\n",
       "      <td>2022-09-24</td>\n",
       "      <td>01</td>\n",
       "      <td>Alabama</td>\n",
       "      <td>20</td>\n",
       "      <td>AL</td>\n",
       "      <td>5039877</td>\n",
       "      <td>50</td>\n",
       "      <td>101</td>\n",
       "    </tr>\n",
       "    <tr>\n",
       "      <th>142</th>\n",
       "      <td>2022-10-01</td>\n",
       "      <td>01</td>\n",
       "      <td>Alabama</td>\n",
       "      <td>24</td>\n",
       "      <td>AL</td>\n",
       "      <td>5039877</td>\n",
       "      <td>50</td>\n",
       "      <td>101</td>\n",
       "    </tr>\n",
       "    <tr>\n",
       "      <th>...</th>\n",
       "      <td>...</td>\n",
       "      <td>...</td>\n",
       "      <td>...</td>\n",
       "      <td>...</td>\n",
       "      <td>...</td>\n",
       "      <td>...</td>\n",
       "      <td>...</td>\n",
       "      <td>...</td>\n",
       "    </tr>\n",
       "    <tr>\n",
       "      <th>8493</th>\n",
       "      <td>2023-02-04</td>\n",
       "      <td>78</td>\n",
       "      <td>Virgin Islands</td>\n",
       "      <td>0</td>\n",
       "      <td>VI</td>\n",
       "      <td>107268</td>\n",
       "      <td>1</td>\n",
       "      <td>2</td>\n",
       "    </tr>\n",
       "    <tr>\n",
       "      <th>8494</th>\n",
       "      <td>2023-02-11</td>\n",
       "      <td>78</td>\n",
       "      <td>Virgin Islands</td>\n",
       "      <td>0</td>\n",
       "      <td>VI</td>\n",
       "      <td>107268</td>\n",
       "      <td>1</td>\n",
       "      <td>2</td>\n",
       "    </tr>\n",
       "    <tr>\n",
       "      <th>8495</th>\n",
       "      <td>2023-02-18</td>\n",
       "      <td>78</td>\n",
       "      <td>Virgin Islands</td>\n",
       "      <td>0</td>\n",
       "      <td>VI</td>\n",
       "      <td>107268</td>\n",
       "      <td>1</td>\n",
       "      <td>2</td>\n",
       "    </tr>\n",
       "    <tr>\n",
       "      <th>8496</th>\n",
       "      <td>2023-02-25</td>\n",
       "      <td>78</td>\n",
       "      <td>Virgin Islands</td>\n",
       "      <td>0</td>\n",
       "      <td>VI</td>\n",
       "      <td>107268</td>\n",
       "      <td>1</td>\n",
       "      <td>2</td>\n",
       "    </tr>\n",
       "    <tr>\n",
       "      <th>8497</th>\n",
       "      <td>2023-03-04</td>\n",
       "      <td>78</td>\n",
       "      <td>Virgin Islands</td>\n",
       "      <td>0</td>\n",
       "      <td>VI</td>\n",
       "      <td>107268</td>\n",
       "      <td>1</td>\n",
       "      <td>2</td>\n",
       "    </tr>\n",
       "  </tbody>\n",
       "</table>\n",
       "<p>1458 rows × 8 columns</p>\n",
       "</div>"
      ],
      "text/plain": [
       "            date location   location_name  value abbreviation  population  \\\n",
       "138   2022-09-03       01         Alabama     21           AL     5039877   \n",
       "139   2022-09-10       01         Alabama     11           AL     5039877   \n",
       "140   2022-09-17       01         Alabama     17           AL     5039877   \n",
       "141   2022-09-24       01         Alabama     20           AL     5039877   \n",
       "142   2022-10-01       01         Alabama     24           AL     5039877   \n",
       "...          ...      ...             ...    ...          ...         ...   \n",
       "8493  2023-02-04       78  Virgin Islands      0           VI      107268   \n",
       "8494  2023-02-11       78  Virgin Islands      0           VI      107268   \n",
       "8495  2023-02-18       78  Virgin Islands      0           VI      107268   \n",
       "8496  2023-02-25       78  Virgin Islands      0           VI      107268   \n",
       "8497  2023-03-04       78  Virgin Islands      0           VI      107268   \n",
       "\n",
       "      count_rate1per100k  count_rate2per100k  \n",
       "138                   50                 101  \n",
       "139                   50                 101  \n",
       "140                   50                 101  \n",
       "141                   50                 101  \n",
       "142                   50                 101  \n",
       "...                  ...                 ...  \n",
       "8493                   1                   2  \n",
       "8494                   1                   2  \n",
       "8495                   1                   2  \n",
       "8496                   1                   2  \n",
       "8497                   1                   2  \n",
       "\n",
       "[1458 rows x 8 columns]"
      ]
     },
     "execution_count": 2,
     "metadata": {},
     "output_type": "execute_result"
    }
   ],
   "source": [
    "import pandas as pd\n",
    "\n",
    "influenza_cases = pd.read_csv(\"https://raw.githubusercontent.com/computationalUncertaintyLab/Flusight-forecast-data/master/data-truth/truth-Incident%20Hospitalizations.csv\")\n",
    "\n",
    "location_pops = pd.read_csv(\"https://raw.githubusercontent.com/computationalUncertaintyLab/Flusight-forecast-data/master/data-locations/locations.csv\")\n",
    "\n",
    "influenza_data = influenza_cases.merge(location_pops, on = [\"location\",\"location_name\"])\n",
    "influenza_data = influenza_data.loc[influenza_data.date>=\"2022-09-01\",: ]\n",
    "\n",
    "influenza_data"
   ]
  },
  {
   "cell_type": "code",
   "execution_count": 3,
   "metadata": {},
   "outputs": [
    {
     "name": "stdout",
     "output_type": "stream",
     "text": [
      "            date location location_name  value abbreviation  population  \\\n",
      "4602  2022-09-03       42  Pennsylvania     40           PA    12964056   \n",
      "4603  2022-09-10       42  Pennsylvania     35           PA    12964056   \n",
      "4604  2022-09-17       42  Pennsylvania     29           PA    12964056   \n",
      "4605  2022-09-24       42  Pennsylvania     35           PA    12964056   \n",
      "4606  2022-10-01       42  Pennsylvania     53           PA    12964056   \n",
      "4607  2022-10-08       42  Pennsylvania     59           PA    12964056   \n",
      "4608  2022-10-15       42  Pennsylvania     76           PA    12964056   \n",
      "4609  2022-10-22       42  Pennsylvania     97           PA    12964056   \n",
      "4610  2022-10-29       42  Pennsylvania    179           PA    12964056   \n",
      "4611  2022-11-05       42  Pennsylvania    238           PA    12964056   \n",
      "4612  2022-11-12       42  Pennsylvania    366           PA    12964056   \n",
      "4613  2022-11-19       42  Pennsylvania    438           PA    12964056   \n",
      "4614  2022-11-26       42  Pennsylvania    825           PA    12964056   \n",
      "4615  2022-12-03       42  Pennsylvania   1330           PA    12964056   \n",
      "4616  2022-12-10       42  Pennsylvania   1180           PA    12964056   \n",
      "4617  2022-12-17       42  Pennsylvania   1037           PA    12964056   \n",
      "4618  2022-12-24       42  Pennsylvania   1029           PA    12964056   \n",
      "4619  2022-12-31       42  Pennsylvania   1051           PA    12964056   \n",
      "4620  2023-01-07       42  Pennsylvania    777           PA    12964056   \n",
      "4621  2023-01-14       42  Pennsylvania    427           PA    12964056   \n",
      "4622  2023-01-21       42  Pennsylvania    285           PA    12964056   \n",
      "4623  2023-01-28       42  Pennsylvania    222           PA    12964056   \n",
      "4624  2023-02-04       42  Pennsylvania    180           PA    12964056   \n",
      "4625  2023-02-11       42  Pennsylvania    175           PA    12964056   \n",
      "4626  2023-02-18       42  Pennsylvania    189           PA    12964056   \n",
      "4627  2023-02-25       42  Pennsylvania    163           PA    12964056   \n",
      "4628  2023-03-04       42  Pennsylvania    154           PA    12964056   \n",
      "\n",
      "      count_rate1per100k  count_rate2per100k  \n",
      "4602                 130                 259  \n",
      "4603                 130                 259  \n",
      "4604                 130                 259  \n",
      "4605                 130                 259  \n",
      "4606                 130                 259  \n",
      "4607                 130                 259  \n",
      "4608                 130                 259  \n",
      "4609                 130                 259  \n",
      "4610                 130                 259  \n",
      "4611                 130                 259  \n",
      "4612                 130                 259  \n",
      "4613                 130                 259  \n",
      "4614                 130                 259  \n",
      "4615                 130                 259  \n",
      "4616                 130                 259  \n",
      "4617                 130                 259  \n",
      "4618                 130                 259  \n",
      "4619                 130                 259  \n",
      "4620                 130                 259  \n",
      "4621                 130                 259  \n",
      "4622                 130                 259  \n",
      "4623                 130                 259  \n",
      "4624                 130                 259  \n",
      "4625                 130                 259  \n",
      "4626                 130                 259  \n",
      "4627                 130                 259  \n",
      "4628                 130                 259  \n"
     ]
    }
   ],
   "source": [
    "pa = influenza_data.loc[influenza_data.location=='42']\n",
    "\n",
    "#--subset to this season\n",
    "pa_this_season = pa.loc[ pa.date>=\"2022-09-01\",: ]\n",
    "print(pa)\n",
    "\n",
    "nrows,ncols = pa_this_season.shape\n",
    "weeks = np.arange(nrows)\n",
    "\n",
    "pa_this_season['week'] = weeks"
   ]
  },
  {
   "cell_type": "code",
   "execution_count": 4,
   "metadata": {
    "scrolled": true
   },
   "outputs": [
    {
     "data": {
      "text/plain": [
       "<matplotlib.collections.PathCollection at 0x159f87dc0>"
      ]
     },
     "execution_count": 4,
     "metadata": {},
     "output_type": "execute_result"
    },
    {
     "data": {
      "image/png": "[encoded data removed]",
      "text/plain": [
       "<Figure size 432x288 with 1 Axes>"
      ]
     },
     "metadata": {
      "needs_background": "light"
     },
     "output_type": "display_data"
    }
   ],
   "source": [
    "plt.scatter(pa_this_season.week,pa_this_season.value.values, color=\"k\")"
   ]
  },
  {
   "cell_type": "code",
   "execution_count": 5,
   "metadata": {},
   "outputs": [
    {
     "data": {
      "text/plain": [
       "[<matplotlib.lines.Line2D at 0x15a087220>]"
      ]
     },
     "execution_count": 5,
     "metadata": {},
     "output_type": "execute_result"
    },
    {
     "data": {
      "image/png": "[encoded data removed]",
      "text/plain": [
       "<Figure size 432x288 with 1 Axes>"
      ]
     },
     "metadata": {
      "needs_background": "light"
     },
     "output_type": "display_data"
    }
   ],
   "source": [
    "from scipy.integrate import solve_ivp \n",
    "\n",
    "def seir(t,y,R0,gamma):\n",
    "    s,i,r, c = y\n",
    "    \n",
    "    beta = R0*gamma\n",
    "    ds = -beta*s*i\n",
    "    di = beta*s*i  - gamma*i\n",
    "    dr = gamma*i\n",
    "    \n",
    "    dc = beta*s*i\n",
    "    \n",
    "    return [ds,di,dr,dc]\n",
    "\n",
    "i0 = 0.01\n",
    "s0 = 1-i0\n",
    "r0 = 0\n",
    "\n",
    "min_weeks, max_weeks = min(weeks), max(weeks)\n",
    "\n",
    "results = solve_ivp(seir\n",
    "                    , t_span = (min_weeks,max_weeks) \n",
    "                    , t_eval = np.arange(min_weeks,max_weeks+0.01,0.01)\n",
    "                    , y0 = (s0,i0,r0,i0)\n",
    "                    , args = (2.25, 1./4) )\n",
    "\n",
    "times_points_for_states = results.t\n",
    "states_over_time        = results.y\n",
    "\n",
    "inc_cases = states_over_time[-1,:]\n",
    "inc_cases = np.diff(inc_cases)\n",
    "\n",
    "inc_cases = np.append(inc_cases[0], inc_cases)\n",
    "\n",
    "plt.plot(times_points_for_states, (12*10**6)*inc_cases)"
   ]
  },
  {
   "cell_type": "code",
   "execution_count": 196,
   "metadata": {},
   "outputs": [
    {
     "name": "stdout",
     "output_type": "stream",
     "text": [
      " active_mask: array([0., 0., 0.])\n",
      "        cost: 35439517824.335724\n",
      "         fun: array([266231.16956636])\n",
      "        grad: array([-4.81663683e+11,  5.32265450e+11,  3.69916296e+11])\n",
      "         jac: array([[-1809193.4296875 ,  1999260.45703125,  1389455.25      ]])\n",
      "     message: 'The maximum number of function evaluations is exceeded.'\n",
      "        nfev: 300\n",
      "        njev: 289\n",
      "  optimality: 532265449743.20325\n",
      "      status: 0\n",
      "     success: False\n",
      "           x: array([0.5802043 , 0.1319189 , 0.00951382])\n"
     ]
    },
    {
     "data": {
      "text/plain": [
       "[<matplotlib.lines.Line2D at 0x16136f130>]"
      ]
     },
     "execution_count": 196,
     "metadata": {},
     "output_type": "execute_result"
    },
    {
     "data": {
      "image/png": "[encoded data removed]",
      "text/plain": [
       "<Figure size 432x288 with 1 Axes>"
      ]
     },
     "metadata": {
      "needs_background": "light"
     },
     "output_type": "display_data"
    }
   ],
   "source": [
    "from scipy.optimize import least_squares\n",
    "def generate_proposed_inc_cases(beta_gamma_phi, N, inital_conditions, start_end):\n",
    "    import numpy as np \n",
    "    from scipy.integrate import solve_ivp\n",
    "        \n",
    "    #--SIR differential equations\n",
    "    def sir(t,y, beta, gamma):\n",
    "        s,i, r, c = y\n",
    "        ds_dt = -beta*s*i\n",
    "        di_dt = beta*s*i - gamma*i\n",
    "        dr_dt = gamma*i\n",
    "\n",
    "        dc_dt = beta*s*i #--incident cases\n",
    "        return [ds_dt, di_dt, dr_dt, dc_dt]\n",
    "    \n",
    "    #--lets assume we will always want step sizes of 0.1\n",
    "    start,end = start_end\n",
    "    tvals = np.arange(start, end+1+0.1, 0.1)\n",
    "    \n",
    "    #--parse arguments from function \n",
    "    beta,gamma,phi = beta_gamma_phi\n",
    "\n",
    "    #--function to return s,i,r over time\n",
    "    solution = solve_ivp( fun = sir\n",
    "                         , t_span = (start,end+1)\n",
    "                         , y0     = initial_conditions\n",
    "                         , t_eval = tvals\n",
    "                         , args   = (beta, gamma))\n",
    "\n",
    "    #--extract from the solution object the times and a matrix of the three states\n",
    "    times  = solution.t\n",
    "    states = solution.y\n",
    "    \n",
    "    #--compute incident cases\n",
    "    inc_cases = N*np.diff(states[3,:])*phi\n",
    "    return inc_cases[::10]\n",
    "\n",
    "def l2(lambdas, data):\n",
    "    import numpy as np \n",
    "    \n",
    "    data    = data + np.finfo(float).eps\n",
    "    lambdas = lambdas + np.finfo(float).eps\n",
    "    \n",
    "    #--computelog likelihood\n",
    "    ll = sum((data-lambdas)**2)\n",
    "    \n",
    "    return float(ll) #--return the negative log likelihood\n",
    "\n",
    "def fit_model(beta_gamma_N       #--this is the argument that minimize will change and maximize \n",
    "             ,N\n",
    "             ,inital_conditions  #--this argument and the one below are needed\n",
    "             ,start_end\n",
    "             ,data ):\n",
    "    proposed_incident_cases = generate_proposed_inc_cases(beta_gamma_N,N, inital_conditions, start_end)\n",
    "    return l2(proposed_incident_cases, data)\n",
    "\n",
    "N                  = 12*10**6\n",
    "initial_conditions = (0.999, 0.001, 0., 0.001)\n",
    "start_end          = (min_weeks,max_weeks) \n",
    "data               = pa_this_season.value.values\n",
    "\n",
    "results = least_squares(fit_model\n",
    "         ,x0   = (1./2,1./5,0.01)\n",
    "         ,args = ( N, initial_conditions, start_end, data )\n",
    "        )\n",
    "print(results)\n",
    "\n",
    "estimated_beta, estimated_gamma, estimated_phi = results.x\n",
    "\n",
    "estimates = (estimated_beta, estimated_gamma, estimated_phi)\n",
    "estimated_cases = generate_proposed_inc_cases(estimates, N, initial_conditions, start_end)\n",
    "\n",
    "plt.scatter(weeks,pa_this_season.value.values)\n",
    "plt.plot(weeks,estimated_cases)"
   ]
  },
  {
   "cell_type": "markdown",
   "metadata": {},
   "source": [
    "## Homework Q01\n",
    "\n",
    "Choose a state from the list of US states that report information on the number of incidetn influenza hospitalizations.\n",
    "\n",
    "1. Produce a scatter plot of weeks on the horizontal axis and incident hospitalizations on the vertical axis. \n",
    "2. Fit a SIR model and fit a SEIR model to the number of incident hospitalizations data. \n",
    "3. Plot the estimated incident hospitalizations for the SIR model and SEIR model. \n",
    "4. Which model is a better fit? Why?\n",
    "5. Please describe each step in the above code that is used to fit the SIR model to your data. "
   ]
  },
  {
   "cell_type": "markdown",
   "metadata": {},
   "source": [
    "### A nice way to store data as a dataframe. \n",
    "\n",
    "There are many different ways to store data as a dataframe in python. \n",
    "A dataframe is an object that has two attributes: rows and columns.\n",
    "Different variables are placed into different columns and observations are considered rows in the dataframe. \n",
    "\n",
    "A very convienant way to store a dataframe in python is with a **dictionary**. \n",
    "To store a dataframe as a dictionary in python we will assume that the keys of the dictionary are columns which are attached to lists. "
   ]
  },
  {
   "cell_type": "code",
   "execution_count": 8,
   "metadata": {},
   "outputs": [],
   "source": [
    "df = {\"column1\":[], \"column2\":[], \"column3\":[]}"
   ]
  },
  {
   "cell_type": "markdown",
   "metadata": {},
   "source": [
    "Above, i have created a dataframe with three columns and zero rows. \n",
    "If i want to add one row to the above dataframe then i need to add one item to each of the lists"
   ]
  },
  {
   "cell_type": "code",
   "execution_count": 9,
   "metadata": {},
   "outputs": [],
   "source": [
    "df = {\"column1\":[0], \"column2\":[34], \"column3\":[-3]}"
   ]
  },
  {
   "cell_type": "markdown",
   "metadata": {},
   "source": [
    "To convert my dictionary to a dataframe i can use the **pandas** package"
   ]
  },
  {
   "cell_type": "code",
   "execution_count": 10,
   "metadata": {},
   "outputs": [
    {
     "data": {
      "text/html": [
       "<div>\n",
       "<style scoped>\n",
       "    .dataframe tbody tr th:only-of-type {\n",
       "        vertical-align: middle;\n",
       "    }\n",
       "\n",
       "    .dataframe tbody tr th {\n",
       "        vertical-align: top;\n",
       "    }\n",
       "\n",
       "    .dataframe thead th {\n",
       "        text-align: right;\n",
       "    }\n",
       "</style>\n",
       "<table border=\"1\" class=\"dataframe\">\n",
       "  <thead>\n",
       "    <tr style=\"text-align: right;\">\n",
       "      <th></th>\n",
       "      <th>column1</th>\n",
       "      <th>column2</th>\n",
       "      <th>column3</th>\n",
       "    </tr>\n",
       "  </thead>\n",
       "  <tbody>\n",
       "    <tr>\n",
       "      <th>0</th>\n",
       "      <td>0</td>\n",
       "      <td>34</td>\n",
       "      <td>-3</td>\n",
       "    </tr>\n",
       "  </tbody>\n",
       "</table>\n",
       "</div>"
      ],
      "text/plain": [
       "   column1  column2  column3\n",
       "0        0       34       -3"
      ]
     },
     "execution_count": 10,
     "metadata": {},
     "output_type": "execute_result"
    }
   ],
   "source": [
    "df = pd.DataFrame(df)\n",
    "df"
   ]
  },
  {
   "cell_type": "markdown",
   "metadata": {},
   "source": [
    "Often we want to create several rows of data. \n",
    "We do this by adding successive items to each list"
   ]
  },
  {
   "cell_type": "code",
   "execution_count": 13,
   "metadata": {},
   "outputs": [
    {
     "data": {
      "text/html": [
       "<div>\n",
       "<style scoped>\n",
       "    .dataframe tbody tr th:only-of-type {\n",
       "        vertical-align: middle;\n",
       "    }\n",
       "\n",
       "    .dataframe tbody tr th {\n",
       "        vertical-align: top;\n",
       "    }\n",
       "\n",
       "    .dataframe thead th {\n",
       "        text-align: right;\n",
       "    }\n",
       "</style>\n",
       "<table border=\"1\" class=\"dataframe\">\n",
       "  <thead>\n",
       "    <tr style=\"text-align: right;\">\n",
       "      <th></th>\n",
       "      <th>column1</th>\n",
       "      <th>column2</th>\n",
       "      <th>column3</th>\n",
       "    </tr>\n",
       "  </thead>\n",
       "  <tbody>\n",
       "    <tr>\n",
       "      <th>0</th>\n",
       "      <td>0</td>\n",
       "      <td>34</td>\n",
       "      <td>-3</td>\n",
       "    </tr>\n",
       "    <tr>\n",
       "      <th>1</th>\n",
       "      <td>3</td>\n",
       "      <td>2</td>\n",
       "      <td>a</td>\n",
       "    </tr>\n",
       "  </tbody>\n",
       "</table>\n",
       "</div>"
      ],
      "text/plain": [
       "   column1  column2 column3\n",
       "0        0       34      -3\n",
       "1        3        2       a"
      ]
     },
     "execution_count": 13,
     "metadata": {},
     "output_type": "execute_result"
    }
   ],
   "source": [
    "df = {\"column1\":[0,3], \"column2\":[34,2], \"column3\":[-3,\"a\"]}\n",
    "df = pd.DataFrame(df)\n",
    "df"
   ]
  },
  {
   "cell_type": "markdown",
   "metadata": {},
   "source": [
    "We can also access lists that are attached to each key (column) and append values"
   ]
  },
  {
   "cell_type": "code",
   "execution_count": 14,
   "metadata": {},
   "outputs": [
    {
     "data": {
      "text/html": [
       "<div>\n",
       "<style scoped>\n",
       "    .dataframe tbody tr th:only-of-type {\n",
       "        vertical-align: middle;\n",
       "    }\n",
       "\n",
       "    .dataframe tbody tr th {\n",
       "        vertical-align: top;\n",
       "    }\n",
       "\n",
       "    .dataframe thead th {\n",
       "        text-align: right;\n",
       "    }\n",
       "</style>\n",
       "<table border=\"1\" class=\"dataframe\">\n",
       "  <thead>\n",
       "    <tr style=\"text-align: right;\">\n",
       "      <th></th>\n",
       "      <th>column1</th>\n",
       "      <th>column2</th>\n",
       "      <th>column3</th>\n",
       "    </tr>\n",
       "  </thead>\n",
       "  <tbody>\n",
       "    <tr>\n",
       "      <th>0</th>\n",
       "      <td>0</td>\n",
       "      <td>34.0</td>\n",
       "      <td>-3</td>\n",
       "    </tr>\n",
       "    <tr>\n",
       "      <th>1</th>\n",
       "      <td>3</td>\n",
       "      <td>2.0</td>\n",
       "      <td>a</td>\n",
       "    </tr>\n",
       "    <tr>\n",
       "      <th>2</th>\n",
       "      <td>2</td>\n",
       "      <td>2.2</td>\n",
       "      <td>hello</td>\n",
       "    </tr>\n",
       "  </tbody>\n",
       "</table>\n",
       "</div>"
      ],
      "text/plain": [
       "   column1  column2 column3\n",
       "0        0     34.0      -3\n",
       "1        3      2.0       a\n",
       "2        2      2.2   hello"
      ]
     },
     "execution_count": 14,
     "metadata": {},
     "output_type": "execute_result"
    }
   ],
   "source": [
    "df = {\"column1\":[0,3], \"column2\":[34,2], \"column3\":[-3,\"a\"]}\n",
    "\n",
    "df[\"column1\"].append(2)\n",
    "df[\"column2\"].append(2.2)\n",
    "df[\"column3\"].append(\"hello\")\n",
    "\n",
    "df = pd.DataFrame(df)\n",
    "df"
   ]
  },
  {
   "cell_type": "markdown",
   "metadata": {},
   "source": [
    "## Homework Q02\n",
    "\n",
    "For **each** staate in the list please fit a SIR model. \n",
    "We will create a dataframe of statistics from our fitted SIR models. \n",
    "Please collected in a dataframe called \"stats\" the following information:\n",
    "1. Location name\n",
    "2. Estimated beta\n",
    "3. Estimated gamma\n",
    "4. Estimated phi\n",
    "5. Compute estimated R0 and store this estimate too\n",
    "\n",
    "Produce a historgram of R0 values. "
   ]
  },
  {
   "cell_type": "markdown",
   "metadata": {},
   "source": [
    "## Homework Q03\n",
    "\n",
    "Choose the state with the higest R0 value and choose the state with the smallest R0 value. \n",
    "1. Produce a scatter plot of weeks on the horizontal axis and incident hospitalizations on the vertical axis for the state with the highest R0.\n",
    "2. Produce a scatter plot of weeks on the horizontal axis and incident hospitalizations on the vertical axis for the state with the lowest R0.\n",
    "3. Fit a SIR model to number of incident hospitalizations data for the state with highest R0.\n",
    "4. Fit a SIR model to number of incident hospitalizations data for the state with lowest R0.\n",
    "5. Please summarize what you found from this analysis. "
   ]
  },
  {
   "cell_type": "markdown",
   "metadata": {},
   "source": [
    "## Homework Q04\n",
    "\n",
    "Please discuss why the model we chose to fit to our data does makes no sense (think about the states that you are estimating). Is there a way that you could add to the SIR model to produce a model that may make more sense to fit to our data on incident hospitalizations?"
   ]
  }
 ],
 "metadata": {
  "kernelspec": {
   "display_name": "Python 3 (ipykernel)",
   "language": "python",
   "name": "python3"
  },
  "language_info": {
   "codemirror_mode": {
    "name": "ipython",
    "version": 3
   },
   "file_extension": ".py",
   "mimetype": "text/x-python",
   "name": "python",
   "nbconvert_exporter": "python",
   "pygments_lexer": "ipython3",
   "version": "3.9.15"
  }
 },
 "nbformat": 4,
 "nbformat_minor": 4
}
