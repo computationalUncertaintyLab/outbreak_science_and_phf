{
 "cells": [
  {
   "cell_type": "markdown",
   "metadata": {},
   "source": [
    "## Week12-15\n",
    "\n",
    "**Background:** Up until now we have explored compartmental models that make fairly strong assumptions about how a set of animals come in contact with one another. \n",
    "Our compartmental models assume that our population is well-mixed, that everyone contacts everyone else within one time unit. \n",
    "This assumption puts all animals at the same risk for an infection, and is likely not reasonable.\n",
    "\n",
    "A model that incorporates **heterogenous risk** assigns different risks of infection to each animal in the system based on a set of characteristics. \n",
    "For example, we may be studying a sexually transmitted disease (STD).\n",
    "Animals who have on average a high number of sexual contacts are at higher risk of infection.\n",
    "We may characterize risk as a function of the number of sexual contacts. \n",
    "\n",
    "#### A SIR approach to modeling heterogenous risk\n",
    "Traditional methods for incorporating heterogenous risk (i) stratify a population of $N$ animals into groups based on their risk of infection and (ii) describe how these strata interact over time. \n",
    "We may, for example, suppose that individuals can be stratified into two groups: high risk or low risk.\n",
    "Within each group we expect the proportion of suscpeible, infected, and removed individuals to follow the SIR system of differential equations with one change. \n",
    "Individuals who are susceotible in the high risk (low risk) group come in contact with individuals who are infected in the low risk (high risk) group. \n",
    "\n",
    "\\begin{align}\n",
    "    \\frac{dS_{\\textrm{high risk}}}{dt} &= -\\beta_{1} S_{\\textrm{high risk}} I_{\\textrm{high risk}} - \\beta_{3} S_{\\textrm{high risk}} I_{\\textrm{low risk}} \\\\\n",
    "    \\frac{dI_{\\textrm{high risk}}}{dt} &= \\beta_{1} S_{\\textrm{high risk}} I_{\\textrm{high risk}} + \\beta_{3} S_{\\textrm{high risk}} I_{\\textrm{low risk}} - \\gamma I_{\\textrm{high risk}}\\\\\n",
    "    \\frac{dR_{\\textrm{high risk}}}{dt} &= \\gamma I_{\\textrm{high risk}}\\\\\n",
    "    &S_{\\textrm{high risk}}(0) = S_{0,\\textrm{high risk}}; \\; I_{\\textrm{high risk}}(0) = I_{0,\\textrm{high risk}}; \\; R_{\\textrm{high risk}}(0) = R_{0,\\textrm{high risk}};\n",
    "\\end{align}"
   ]
  },
  {
   "cell_type": "markdown",
   "metadata": {},
   "source": [
    "where $\\beta_{1}$ describes the effective contact rate between high risk individuals and $\\beta_{3}$ describes the effetive contact rate between high risk and low risk individuals. \n",
    "The above summarizes how the proportion of suscpetible, infected, and removed individuals in the high risk group propogate over time. \n",
    "We also need a sysem to summarize low risk individuals. "
   ]
  },
  {
   "cell_type": "markdown",
   "metadata": {},
   "source": [
    "\\begin{align}\n",
    "    \\frac{dS_{\\textrm{low risk}}}{dt} &= -\\beta_{2} S_{\\textrm{low risk}} I_{\\textrm{low risk}} - \\beta_{3} S_{\\textrm{low risk}} I_{\\textrm{high risk}} \\\\\n",
    "    \\frac{dI_{\\textrm{low risk}}}{dt} &= \\beta_{2} S_{\\textrm{low risk}} I_{\\textrm{low risk}} + \\beta_{3} S_{\\textrm{low risk}} I_{\\textrm{high risk}} - \\gamma I_{\\textrm{low risk}}\\\\\n",
    "    \\frac{dR_{\\textrm{low risk}}}{dt} &= \\gamma I_{\\textrm{low risk}}\\\\\n",
    "    &S_{\\textrm{low risk}}(0) = S_{0,\\textrm{low risk}}; \\; I_{\\textrm{low risk}}(0) = I_{0,\\textrm{low risk}}; \\; R_{\\textrm{low risk}}(0) = R_{0,\\textrm{low risk}};\n",
    "\\end{align}"
   ]
  },
  {
   "cell_type": "markdown",
   "metadata": {},
   "source": [
    "We simplified our above model by assuming the same $\\gamma$ for the high risk and low risk, that is, we assume the same duraction of the infecvtion period $(1/\\gamma)$ for both groups.\n",
    "Below you will find code for integrating this system. \n",
    "Note: when the parameter $\\beta_{3} = 0$ then we assume that high risk and low risk individuals do not interact.\n",
    "When the parameter $\\beta_{3} > 0$ then we assume that these two groups do interact.\n",
    "\n",
    "For our example below we use the following parameter settings:\n",
    "\n",
    "| Parameter | Value |\n",
    "| --- | --- |\n",
    "| $S_{\\textrm{high risk}}(0)$| 0.90 |\n",
    "| $I_{\\textrm{high risk}}(0)$| 0.10 |\n",
    "| $R_{\\textrm{high risk}}(0)$| 0.00 |\n",
    "| $S_{\\textrm{low risk}}(0)$ | 0.50 |\n",
    "| $I_{\\textrm{low risk}}(0)$ | 0.10 |\n",
    "| $R_{\\textrm{low risk}}(0)$ | 0.40 |\n",
    "| $\\beta_{1}$ | 1/5  |\n",
    "| $\\beta_{2}$ | 1/10  |\n",
    "| $\\gamma$    | 1/5  |"
   ]
  },
  {
   "cell_type": "markdown",
   "metadata": {},
   "source": [
    "Below we present two scenarios: mixing ($\\beta_{3} = 1/2)$ and no mixing $(\\beta_{3}=0)$,\n",
    "If the two groups are not allowed to interact with one another then the proportion of infected individuals in both groups decays towards zero (Why? Hint: What do you know about $\\mathcal{R}_{0}$ for groups that do not interact?).\n",
    "However, if we allow these two groups to interact with one another then an epidemic takes places in both groups.\n",
    "\n",
    "The study of hetergoenous risk among hosts can often include more realistic assumptions about how an infectious agent propogates through a population."
   ]
  },
  {
   "cell_type": "code",
   "execution_count": 222,
   "metadata": {
    "hide_input": true,
    "tags": [
     "hide_code"
    ]
   },
   "outputs": [],
   "source": [
    "import numpy as np \n",
    "from scipy.integrate import solve_ivp \n",
    "\n",
    "import matplotlib.pyplot as plt\n",
    "\n",
    "def sir_HL(t,y, betas, gamma):\n",
    "    #--unpack y(all the disease states)\n",
    "    s_highrisk, i_highrisk,r_highrisk,s_lowrisk,i_lowrisk, r_lowrisk = y\n",
    "    \n",
    "    #--unpack the three beta params that we need \n",
    "    beta1, beta2, beta3 = betas\n",
    "    \n",
    "    #--setup the diffeqs\n",
    "    ds_highrisk_dt = -beta1*s_highrisk*i_highrisk - beta3*s_highrisk*i_lowrisk\n",
    "    di_highrisk_dt = beta1*s_highrisk*i_highrisk + beta3*s_highrisk*i_lowrisk - gamma*i_highrisk\n",
    "    dr_highrisk_dt = gamma*i_highrisk\n",
    "    \n",
    "    ds_lowrisk_dt = -beta1*s_lowrisk*i_lowrisk - beta3*s_lowrisk*i_highrisk\n",
    "    di_lowrisk_dt = beta1*s_lowrisk*i_lowrisk + beta3*s_lowrisk*i_highrisk - gamma*i_lowrisk\n",
    "    dr_lowrisk_dt = gamma*i_lowrisk\n",
    "    \n",
    "    return [ds_highrisk_dt,di_highrisk_dt,dr_highrisk_dt,ds_lowrisk_dt,di_lowrisk_dt,dr_lowrisk_dt]\n",
    "    \n",
    "#--initial conditions for SIR high risk and SIR low risk\n",
    "inital_conditions = (0.90, 0.10, 0.0, 0.50, 0.10, 0.40)\n",
    "\n",
    "#--time span to integrate system \n",
    "time_span = (0,50)\n",
    "\n",
    "#--------------------------------------------------------------\n",
    "#--OUR FIRST SET OF PARAMETERS ASSUMES THAT THESE GROUPS MIX\n",
    "\n",
    "#--parameter values (beta1, beta2, beta3)\n",
    "betas = (1./5 , 1./10 , 1./2) \n",
    "gamma = (1./5)\n",
    "\n",
    "results = solve_ivp(fun = sir_HL, t_span = time_span, t_eval=np.arange(0,50,0.1), y0 = inital_conditions, args = (betas, gamma))\n",
    "\n",
    "#--collect times\n",
    "times_mix = results.t\n",
    "\n",
    "#--collect estimated disease states over time\n",
    "disease_states_mix = results.y\n",
    "\n",
    "#--------------------------------------------------------------\n",
    "#--OUR SECOND SET OF PARAMETERS ASSUMES THAT THESE GROUPS MIX\n",
    "\n",
    "#--parameter values (beta1, beta2, beta3)\n",
    "betas = (1./5 , 1./10 , 0) \n",
    "gamma = (1./5)\n",
    "\n",
    "results = solve_ivp(fun = sir_HL, t_span = time_span, t_eval=np.arange(0,50,0.1), y0 = inital_conditions, args = (betas, gamma))\n",
    "\n",
    "#--collect times\n",
    "times_nomix = results.t\n",
    "\n",
    "#--collect estimated disease states over time\n",
    "disease_states_nomix = results.y"
   ]
  },
  {
   "cell_type": "code",
   "execution_count": 223,
   "metadata": {
    "hide_input": true,
    "scrolled": true,
    "tags": [
     "hide_code"
    ]
   },
   "outputs": [
    {
     "data": {
      "image/png": "[encoded data removed]",
      "text/plain": [
       "<Figure size 720x288 with 2 Axes>"
      ]
     },
     "metadata": {
      "needs_background": "light"
     },
     "output_type": "display_data"
    }
   ],
   "source": [
    "fig,axs = plt.subplots(1,2, figsize=(10,4))\n",
    "\n",
    "#--mixing\n",
    "ax=axs[0]\n",
    "infected_highrisk_mix = disease_states_mix[1,:] #--< why?\n",
    "infected_lowrisk_mix  = disease_states_mix[4,:] #--< why?\n",
    "\n",
    "ax.plot( times_mix, infected_highrisk_mix, color=\"red\", ls=\"-\"  , lw=2, label=\"high risk\")\n",
    "ax.plot( times_mix, infected_lowrisk_mix , color=\"blue\", ls=\"--\", lw=2, label=\"low risk\")\n",
    "\n",
    "ax.legend()\n",
    "ax.set_title(\"Mixing\")\n",
    "\n",
    "ax.set_ylim(0,0.35)\n",
    "\n",
    "ax.set_ylabel(\"Prevalent infections\", fontsize=10)\n",
    "ax.set_xlabel(\"Time\", fontsize=10)\n",
    "\n",
    "#--no mixing\n",
    "ax=axs[1]\n",
    "infected_highrisk_nomix = disease_states_nomix[1,:] #--< why?\n",
    "infected_lowrisk_nomix  = disease_states_nomix[4,:] #--< why?\n",
    "\n",
    "ax.plot( times_nomix, infected_highrisk_nomix, color=\"red\", ls=\"-\"  , lw=2, label=\"high risk\")\n",
    "ax.plot( times_nomix, infected_lowrisk_nomix , color=\"blue\", ls=\"--\", lw=2, label=\"low risk\")\n",
    "\n",
    "ax.legend()\n",
    "ax.set_title(\"No Mixing\")\n",
    "\n",
    "ax.set_ylim(0,0.35)\n",
    "\n",
    "ax.set_ylabel(\"Prevalent infections\", fontsize=10)\n",
    "ax.set_xlabel(\"Time\", fontsize=10)\n",
    "\n",
    "plt.show()"
   ]
  },
  {
   "cell_type": "markdown",
   "metadata": {},
   "source": [
    "We have studied systems of differential equations as one tool for understanding disease dynamics. \n",
    "Over the next two weeks we will learn, and code, a new type of model that represents heterogenous risk among individuals which is based on the number of contacts they have made. \n",
    "We will use the **Watermelon Meow Meow Contact network** that you created as part of your extra credit assignment. \n",
    "\n",
    "**Goals:**\n",
    "\n",
    "Our goals will be to\n",
    "- Visualize the contact pattern of the Watermelon Meow Meow network\n",
    "- Characterize the *degree* distribution of this network. \n",
    "- Simulate an outbreak on this network\n",
    "\n",
    "### Defining a network\n",
    "\n",
    "Our first goal is to understand how to represent mathematically a **contact network**---a network that describes individuals and the connections that they have made with one another. \n",
    "\n",
    "A **network** or graph is a tuple $G = (N,E)$ that contains a set of nodes\n",
    "\n",
    "\\begin{align}\n",
    "    N = \\{n_{1},n_{2},n_{3}\\cdots,n_{N}\\}\n",
    "\\end{align}\n",
    "\n",
    "and a set of pairs where both items in each pair must come from the set of nodes. \n",
    "These pairs are called edges and can be represented by a network's edge set:\n",
    "\n",
    "\\begin{align}\n",
    "    E = \\{  (n_{i}, n_{j} ) \\; | \\;  \\text{for some node i and some node j} )  \\}\n",
    "\\end{align}\n",
    "\n",
    "For example, we might consider a graph $G = (N,E)$ where \n",
    "$N = \\{a,b,c,d,e\\}$ and $E = \\{ (a,b),(c,d),(a,e),(a,c) \\}$\n",
    "This graph has five nodes and four edges: an edge from node a to node b, edge from node c to node d, edge from node a to node e, and an edge from node a to node c. \n",
    "\n",
    "We can visualize a network (graph) by letting circles represent nodes and for each edge $(x,y)$ drawing a line between node $x$ and node $y$.\n",
    "The `networkx` package is a handy tool for operating and visualizing networks. \n",
    "Lets implement the above network and visualize it. "
   ]
  },
  {
   "cell_type": "code",
   "execution_count": 224,
   "metadata": {},
   "outputs": [
    {
     "data": {
      "image/png": "[encoded data removed]",
      "text/plain": [
       "<Figure size 432x288 with 1 Axes>"
      ]
     },
     "metadata": {},
     "output_type": "display_data"
    }
   ],
   "source": [
    "#--import networkx\n",
    "import networkx as nx \n",
    "\n",
    "#--create and empty graph\n",
    "G = nx.Graph()\n",
    "\n",
    "#-add the nodes a,b,c,d,e\n",
    "for node in ['a','b','c','d','e']:\n",
    "    G.add_node(node)\n",
    "\n",
    "#--add edges\n",
    "for edge in [ ('a','b'),('c','d'),('a','e'),('a','c')] :\n",
    "    node1,node2 = edge\n",
    "    G.add_edge(node1,node2)\n",
    "\n",
    "#--draw graph\n",
    "nx.draw(G,with_labels = True,node_color=\"orange\")\n",
    "plt.show()"
   ]
  },
  {
   "cell_type": "markdown",
   "metadata": {},
   "source": [
    "### The degree distribution as one way to characterize a network \n",
    "\n",
    "There are many different ways that we can characterize a network, but one of the most frequent ways is to describe a network's **degree distribution**.\n",
    "The **degree** of a node $x$, $deg(x)$, is the number of edges that contain the node $x$. \n",
    "\n",
    "\\begin{align}\n",
    "    deg(x) = | \\{ (a,b) \\in E \\; | \\; a=x \\text{ or } b=x \\} |\n",
    "\\end{align}\n",
    "where the symbol $| \\cdot |$ returns the number of items in a set. \n",
    "Lets look at our above example and describe the degree of each node. \n",
    "\n",
    "Because the node $a$ has three edges it has degree 3, $deg(a)=3$. \n",
    "Those edges are $\\{ (a,b), (a,c), (a,e) \\}$.\n",
    "The nodes that are connected to the node $a$ are called **neighbors**. \n",
    "The neighbors of $a$ are the nodes: $b$,$c$,$e$.\n",
    "\n",
    "Though the degree is a property that is specific to a single node, the **degree distribution** is a property of an entire network and quanifies the probability that we select a node that has degree $k$.\n",
    "Lets compute the degree distribution for our example. \n",
    "\n",
    "The total number of edges is 4. \n",
    "The degree for each node is \n",
    "\n",
    "\\begin{align}\n",
    "    deg(a) = 3\\\\\n",
    "    deg(b) = 1\\\\\n",
    "    deg(c) = 2\\\\\n",
    "    deg(d) = 1\\\\\n",
    "    deg(e) = 1\n",
    "\\end{align}\n",
    "\n",
    "Let the random variable $K$ represent selecting a node with a specific degree. \n",
    "\n",
    "The probability of selecting a node at random with degree one can be estimated as $P( K=1 ) = 3/5$. \n",
    "\n",
    "The probability of selecting a node at random with degree 2 can be estimated as $P( K=2 ) = 1/5$. \n",
    "\n",
    "The probability of selecting a node at random with degree 3 can be estimated as $P( K=3 ) = 1/5$. "
   ]
  },
  {
   "cell_type": "markdown",
   "metadata": {},
   "source": [
    "### Watermelon Meow Meow\n",
    "\n",
    "Lets apply the concepts of network visualization and degree distribution to summarize the Watermelon Meow Meow contact network that was built in the beginning of this course. \n",
    "You can download the network here = []().\n",
    "Store this CSV in the same folder where your Jupyter notebook is. \n",
    "\n",
    "Lets first import this CSV file as a dataframe using `pandas`.\n",
    "\n",
    "The Watermelon Meow Meow dataset contains three columns.\n",
    "The first column describes an infector, a person who has an infection and passes it to someone who then becomes infected which is the second column.\n",
    "The third column describes whether one of the infected individuals was a Dean, Provost, or the President of our university."
   ]
  },
  {
   "cell_type": "code",
   "execution_count": 225,
   "metadata": {},
   "outputs": [
    {
     "data": {
      "text/html": [
       "<div>\n",
       "<style scoped>\n",
       "    .dataframe tbody tr th:only-of-type {\n",
       "        vertical-align: middle;\n",
       "    }\n",
       "\n",
       "    .dataframe tbody tr th {\n",
       "        vertical-align: top;\n",
       "    }\n",
       "\n",
       "    .dataframe thead th {\n",
       "        text-align: right;\n",
       "    }\n",
       "</style>\n",
       "<table border=\"1\" class=\"dataframe\">\n",
       "  <thead>\n",
       "    <tr style=\"text-align: right;\">\n",
       "      <th></th>\n",
       "      <th>infector</th>\n",
       "      <th>infected</th>\n",
       "      <th>dean,provost,president</th>\n",
       "    </tr>\n",
       "  </thead>\n",
       "  <tbody>\n",
       "    <tr>\n",
       "      <th>0</th>\n",
       "      <td>aeb623</td>\n",
       "      <td>anf423</td>\n",
       "      <td>NaN</td>\n",
       "    </tr>\n",
       "    <tr>\n",
       "      <th>1</th>\n",
       "      <td>aeb623</td>\n",
       "      <td>emg223</td>\n",
       "      <td>NaN</td>\n",
       "    </tr>\n",
       "    <tr>\n",
       "      <th>2</th>\n",
       "      <td>aev225</td>\n",
       "      <td>klc325</td>\n",
       "      <td>NaN</td>\n",
       "    </tr>\n",
       "    <tr>\n",
       "      <th>3</th>\n",
       "      <td>aev225</td>\n",
       "      <td>mmd225</td>\n",
       "      <td>NaN</td>\n",
       "    </tr>\n",
       "    <tr>\n",
       "      <th>4</th>\n",
       "      <td>aev225</td>\n",
       "      <td>saw225</td>\n",
       "      <td>NaN</td>\n",
       "    </tr>\n",
       "    <tr>\n",
       "      <th>...</th>\n",
       "      <td>...</td>\n",
       "      <td>...</td>\n",
       "      <td>...</td>\n",
       "    </tr>\n",
       "    <tr>\n",
       "      <th>328</th>\n",
       "      <td>profm</td>\n",
       "      <td>bbm325</td>\n",
       "      <td>NaN</td>\n",
       "    </tr>\n",
       "    <tr>\n",
       "      <th>329</th>\n",
       "      <td>profm</td>\n",
       "      <td>cto225</td>\n",
       "      <td>NaN</td>\n",
       "    </tr>\n",
       "    <tr>\n",
       "      <th>330</th>\n",
       "      <td>profm</td>\n",
       "      <td>anb225</td>\n",
       "      <td>NaN</td>\n",
       "    </tr>\n",
       "    <tr>\n",
       "      <th>331</th>\n",
       "      <td>profm</td>\n",
       "      <td>moe325</td>\n",
       "      <td>NaN</td>\n",
       "    </tr>\n",
       "    <tr>\n",
       "      <th>332</th>\n",
       "      <td>profm</td>\n",
       "      <td>asp222</td>\n",
       "      <td>NaN</td>\n",
       "    </tr>\n",
       "  </tbody>\n",
       "</table>\n",
       "<p>333 rows × 3 columns</p>\n",
       "</div>"
      ],
      "text/plain": [
       "    infector infected  dean,provost,president\n",
       "0     aeb623   anf423                     NaN\n",
       "1     aeb623   emg223                     NaN\n",
       "2     aev225   klc325                     NaN\n",
       "3     aev225   mmd225                     NaN\n",
       "4     aev225   saw225                     NaN\n",
       "..       ...      ...                     ...\n",
       "328    profm   bbm325                     NaN\n",
       "329    profm   cto225                     NaN\n",
       "330    profm   anb225                     NaN\n",
       "331    profm   moe325                     NaN\n",
       "332    profm   asp222                     NaN\n",
       "\n",
       "[333 rows x 3 columns]"
      ]
     },
     "execution_count": 225,
     "metadata": {},
     "output_type": "execute_result"
    }
   ],
   "source": [
    "import pandas as pd \n",
    "WMMM = pd.read_csv(\"Watermelon_meow_meow__2023S.csv\")\n",
    "WMMM"
   ]
  },
  {
   "cell_type": "markdown",
   "metadata": {},
   "source": [
    "We can create an empty network using networkx and assign an edge between every infector and infected in our `WMMM` dataframe. \n",
    "We can iterate through the rows of the WMMM dataframe using the `iterrows()` method [https://pandas.pydata.org/docs/reference/api/pandas.DataFrame.iterrows.html](https://pandas.pydata.org/docs/reference/api/pandas.DataFrame.iterrows.html). \n",
    "We will add an edge to our network using the `add_edge` method in networkx. "
   ]
  },
  {
   "cell_type": "code",
   "execution_count": 226,
   "metadata": {},
   "outputs": [],
   "source": [
    "#--import networkx\n",
    "import networkx as nx \n",
    "\n",
    "#--create an empty graph\n",
    "g = nx.Graph()\n",
    "\n",
    "#--loops through every edge in the WMM dataframe\n",
    "#--add an edge for every (infector, infected) pair. \n",
    "for index,row in WMMM.iterrows():\n",
    "    g.add_edge( row.infector, row.infected )"
   ]
  },
  {
   "cell_type": "markdown",
   "metadata": {},
   "source": [
    "Now we can visualize the **Watermelon Meow Meow Network**. "
   ]
  },
  {
   "cell_type": "code",
   "execution_count": 227,
   "metadata": {},
   "outputs": [
    {
     "data": {
      "image/png": "[encoded data removed]",
      "text/plain": [
       "<Figure size 720x576 with 1 Axes>"
      ]
     },
     "metadata": {},
     "output_type": "display_data"
    }
   ],
   "source": [
    "#--presents i found from the internet (not kidding)\n",
    "pos = nx.spring_layout(g, scale=20, k=3/np.sqrt(g.order()))\n",
    "d = dict(g.degree)\n",
    "\n",
    "#--set up a plot\n",
    "fig,ax = plt.subplots()\n",
    "\n",
    "nx.draw(g\n",
    "        ,pos\n",
    "        ,with_labels=False \n",
    "        ,nodelist=g\n",
    "        ,node_color=\"blue\"\n",
    "        ,node_size=20\n",
    "       ,ax=ax)\n",
    "fig.set_size_inches(10,8)\n",
    "plt.title(\"Watermelon Meow Meow Network\")\n",
    "plt.show()"
   ]
  },
  {
   "cell_type": "markdown",
   "metadata": {},
   "source": [
    "The **Watermelon Meow Meow** network that was created by our class has some striking characteristics. \n",
    "Likely, the most salient characteristic is that there are a small numner of infectors with a large degree (a large number of people who they infected) and many of the infectors had a small degree (small number of people who were infected). \n",
    "This type of network is typical of a **social network**.\n",
    "A social network is a network where the nodes are human or some representation of a human (online account) and where the edges are contacts between humans. \n",
    "In an online network you might draw an edge between two accounts that have interacted. \n",
    "\n",
    "Our network contains humans as nodes and assigns an edge between two humans because they have made an **effective contact**, a contact that results in transmission of the Watermelon Meow Meow disease."
   ]
  },
  {
   "cell_type": "markdown",
   "metadata": {},
   "source": [
    "We can characterize this WMM network by its degree distribution. \n",
    "The ``networkx`` package has a handy method called `degree` that returns the degree of each node in the network. \n",
    "Rather than plot the probability of each individual degree, lets compute the probability a node has at least degree $k$, or \n",
    "\n",
    "\\begin{align}\n",
    "    P(K \\geq k) = 1 - P(K < k) = 1 - F(k)\n",
    "\\end{align}\n",
    "\n",
    "This distribution is often called a **complementary cumulative distribution** (ccdf). \n",
    "Dont worry about the function that i have implemented below to generate the ccdf. "
   ]
  },
  {
   "cell_type": "code",
   "execution_count": 228,
   "metadata": {},
   "outputs": [
    {
     "data": {
      "image/png": "[encoded data removed]",
      "text/plain": [
       "<Figure size 720x288 with 1 Axes>"
      ]
     },
     "metadata": {
      "needs_background": "light"
     },
     "output_type": "display_data"
    }
   ],
   "source": [
    "#--create a figure\n",
    "fig,ax = plt.subplots()\n",
    "\n",
    "#--collect the degrees of each node in a list\n",
    "degrees = list(dict(g.degree()).values())\n",
    "\n",
    "#--function to compute complementary cumulative density\n",
    "def ccdf(x):\n",
    "    L = 1.*len(x)\n",
    "    x, px = sorted(x), 1. - np.arange(0,L)/L\n",
    "    return x,px #--returns k and P(K>=k)\n",
    "\n",
    "x,px = ccdf(degrees)\n",
    "ax.plot(x,px,'ko')\n",
    "ax.set_xlabel(\"Degree\")\n",
    "ax.set_ylabel(\"Complementary cumulative probability\")\n",
    "\n",
    "fig.set_size_inches(10,4)"
   ]
  },
  {
   "cell_type": "markdown",
   "metadata": {},
   "source": [
    "It looks like many nodes have a degree of at least one but only a small number have degree greater than ten, and an even smaller number of nodes have a degree greater than 40. \n",
    "Let's try to better visualize this graph by taking the log of the horizontal and vertical axis."
   ]
  },
  {
   "cell_type": "code",
   "execution_count": 229,
   "metadata": {},
   "outputs": [
    {
     "data": {
      "image/png": "[encoded data removed]",
      "text/plain": [
       "<Figure size 720x288 with 1 Axes>"
      ]
     },
     "metadata": {
      "needs_background": "light"
     },
     "output_type": "display_data"
    }
   ],
   "source": [
    "#--create a figure\n",
    "fig,ax = plt.subplots()\n",
    "\n",
    "#--collect the degrees of each node in a list\n",
    "degrees = list(dict(g.degree()).values())\n",
    "\n",
    "#--function to compute complementary cumulative density\n",
    "def ccdf(x):\n",
    "    L = 1.*len(x)\n",
    "    x, px = sorted(x), 1. - np.arange(0,L)/L\n",
    "    return x,px #--returns k and P(K>=k)\n",
    "\n",
    "x,px = ccdf(degrees)\n",
    "ax.loglog(x,px,'ko') #--take the log of the horizontal and vertical axis\n",
    "ax.set_xlabel(\"Degree\")\n",
    "ax.set_ylabel(\"Complementary cumulative probability\")\n",
    "\n",
    "fig.set_size_inches(10,4)"
   ]
  },
  {
   "cell_type": "markdown",
   "metadata": {},
   "source": [
    "The above degree distribution is typical of **social network**.\n",
    "Many nodes in a social network have a small number of connections while a small number of nodes have a large number of connections. \n",
    "We can see that our Watermelon Meow Meow network exhibits this property of a social network. "
   ]
  },
  {
   "cell_type": "markdown",
   "metadata": {},
   "source": [
    "### Simulating an outbreak on the Watermelon Meow Meow Network. \n",
    "\n",
    "To simulate an outbreak on a network we will need to append disease states (susceptible, infected, removed) to each individual (node) in the network and build a suite of functions that model how the disease states of nodes change when they interact with one another.\n",
    "\n",
    "**Disease states under consideration**\n",
    "\n",
    "We will assume that every node is in one of three disease states: susceptible, infected, removed. \n",
    "\n",
    "**How infections propogate**\n",
    "\n",
    "We will aslso assume that at every time step a susceptible node becomes infected with probability \n",
    "\n",
    "\\begin{align}\n",
    "    P(\\textrm{Infection}) = 1 - (1-p)^{ I }\n",
    "\\end{align}\n",
    "\n",
    "where $I$ is equal to the number of neighbors that are infected and $p$ is a parameter that defines the probability of transmission of the Watermelon Meow Meow disease.\n",
    "As we discussed in class, if the probability of transmission is equal to $p$ then the probability that a susceptible individual is **not** infected by $I$ individuals is equal to \n",
    "\n",
    "\\begin{align}\n",
    "    P(\\textrm{Escape infection}) &= (1-p) \\cdot (1-p) \\cdot (1-p) \\cdots (1-p) \\\\ \n",
    "    &= (1-p)^{I}\n",
    "\\end{align}\n",
    "\n",
    "Then, the probability that a susceptible individual does not escape infection equals $1 - P(\\textrm{Escape infection})$ or $1 - (1-p)^{I}$. \n",
    "\n",
    "**The length of infectious period**\n",
    "\n",
    "For this model we can assume that the infectious period of individuals in the system follows a Gamma density with parameters (5,1). That is, if we represent the infectious period of an individual with the random variable $X$ then the infectious period follows\n",
    "\n",
    "\\begin{align}\n",
    "    X \\sim \\textrm{Gamma}(5,1)\n",
    "\\end{align}\n",
    "\n",
    "**Adding disease states to every node**\n",
    "\n",
    "The disease states S,I,R can be added to each node as follows:"
   ]
  },
  {
   "cell_type": "code",
   "execution_count": 230,
   "metadata": {},
   "outputs": [],
   "source": [
    "#--assign s,i,r states to every node\n",
    "#--make sure everyone is susceptible\n",
    "for node in g.nodes():\n",
    "    g.nodes[node][\"s\"] = 1\n",
    "    g.nodes[node][\"i\"] = 0\n",
    "    g.nodes[node][\"r\"] = 0"
   ]
  },
  {
   "cell_type": "markdown",
   "metadata": {},
   "source": [
    "where we assume that an individual can be in only one disease state at a time. \n",
    "That is, it is not possible that an individual is both suscpetible and removed. \n",
    "We assigned to each node the variables s, i, r and assigned these variables the values 1,0,0. \n",
    "That is, we consider everyone susceptible. \n",
    "\n",
    "We will also need to assign to every person a random number that follows a $\\textrm{Gamma}(5,1)$ density representing, if they were to become infected, the number of time steps that they would remain in the infectious period. \n",
    "\n",
    "Below is a histogram of the $\\textrm{Gamma}(5,1)$ density.\n",
    "We see that many indiviudals wll have a typical infectious period of between 4 and 6 time steps while some individuals will have a short infectious period of 1 day and others a long infectious period of more than 10 days. "
   ]
  },
  {
   "cell_type": "code",
   "execution_count": 231,
   "metadata": {},
   "outputs": [
    {
     "data": {
      "image/png": "[encoded data removed]",
      "text/plain": [
       "<Figure size 432x288 with 1 Axes>"
      ]
     },
     "metadata": {
      "needs_background": "light"
     },
     "output_type": "display_data"
    }
   ],
   "source": [
    "import numpy as np \n",
    "\n",
    "#--numnber of nodes in network\n",
    "N = len(g)\n",
    "recovery_times = np.random.gamma(5,1,size=N)\n",
    "\n",
    "fig,ax = plt.subplots()\n",
    "ax.hist(recovery_times,20)\n",
    "ax.set_xlabel(\"Recovery time\")\n",
    "ax.set_ylabel(\"Count\")\n",
    "plt.show()"
   ]
  },
  {
   "cell_type": "markdown",
   "metadata": {},
   "source": [
    "Lets assign these infectious period (or recovery) times to each node in an attribute called \"t\" (for time to recovery). \n",
    "When a node is infected this attribute \"t\" will be decreased by one at every time step.\n",
    "\n",
    "We can produce the list of all nodes with the ``nodes`` method in ``networkx``.\n",
    "We then have a list of $N$ recovery times and a list of the $N$ nodes. \n",
    "We want to assign the first recovery time to the first node in the list, the second recovery time to the second node in the list and so on. \n",
    "\n",
    "To glue together two (or more) lists use the ``zip`` command.\n",
    "Here is a small example of how the zip command works "
   ]
  },
  {
   "cell_type": "code",
   "execution_count": 232,
   "metadata": {},
   "outputs": [
    {
     "name": "stdout",
     "output_type": "stream",
     "text": [
      "1-4\n",
      "2-5\n",
      "3-6\n"
     ]
    }
   ],
   "source": [
    "Xs = ['1','2','3']\n",
    "Ys = ['4','5','6']\n",
    "\n",
    "for x,y in zip(Xs,Ys):\n",
    "    print(x + \"-\" + y)"
   ]
  },
  {
   "cell_type": "markdown",
   "metadata": {},
   "source": [
    "The list `Xs` is aligned with the list `Ys`. \n",
    "At the **ith** iteration of the loop the item `Xs[i]` is stored in `x` and the item `Ys[i]` is stored in `y`.\n",
    "\n",
    "\n",
    "We can zip together our recovery times and the nodes in our network. \n",
    "At each iteration we will assign a recovery time to a node. "
   ]
  },
  {
   "cell_type": "code",
   "execution_count": 233,
   "metadata": {},
   "outputs": [],
   "source": [
    "##--assigning infectious periods to everyone from the list recovery_times\n",
    "for r,node in zip(recovery_times, g.nodes()):\n",
    "    g.nodes[node][\"t\"] = r"
   ]
  },
  {
   "cell_type": "markdown",
   "metadata": {},
   "source": [
    "### One infection \n",
    "\n",
    "Before you are asked as homework to build a suite of functions to simualte an outbreak, i will introduce a function to select a single node at random and infect that node. \n",
    "The states of that node will change from (S=1, I=0, R=0) to (S=0, I=1, R=0). "
   ]
  },
  {
   "cell_type": "code",
   "execution_count": 234,
   "metadata": {},
   "outputs": [],
   "source": [
    "#--add an infection \n",
    "def infect_random_node(g):\n",
    "    nodes = list(g.nodes())            #--a list of all the nodes in the network\n",
    "    patient0 = np.random.choice(nodes) #--choose a node at random\n",
    "        \n",
    "    #--change that node's disease state from susceptible to infected. \n",
    "    g.nodes[patient0][\"s\"]=0\n",
    "    g.nodes[patient0][\"i\"]=1\n",
    "    g.nodes[patient0][\"r\"]=0"
   ]
  },
  {
   "cell_type": "markdown",
   "metadata": {},
   "source": [
    "### Homework\n",
    "\n",
    "We need **nine** functions to help us simulate an outbreak.\n",
    "Each function is described in words below and you are asked to fill in the code to produce a desired output. \n",
    "With each function i have test code so that you can check if you are performing each function correctly. "
   ]
  },
  {
   "cell_type": "markdown",
   "metadata": {},
   "source": [
    "### Function one: From Suscpeible to infected\n",
    "We need a function titled `from_s_to_i` that takes as input a `node` and a `network` and updates this node with the disease state infected. \n",
    "This means that we change the state S to 0, the state I to 1, and the state R to 0. \n",
    "Your function will need to select a node `n` from a graph `g`, using the `g.nodes` method and modify the \"s\", \"i\", and the \"r\" attributes. \n",
    "*Hint*: Take a look at the code above where i assigned all the nodes to the susceptible state. "
   ]
  },
  {
   "cell_type": "code",
   "execution_count": 235,
   "metadata": {},
   "outputs": [
    {
     "name": "stdout",
     "output_type": "stream",
     "text": [
      "Pass\n"
     ]
    }
   ],
   "source": [
    "#--this is the answer\n",
    "def from_s_to_i(n,g):\n",
    "    pass\n",
    "\n",
    "#--this is for students\n",
    "def test_function_one( fun ):\n",
    "    import networkx as nx\n",
    "    g = nx.gnm_random_graph(10, 5)\n",
    "    \n",
    "    for node in g.nodes():\n",
    "        g.nodes[node][\"s\"] = 1\n",
    "        g.nodes[node][\"i\"] = 0\n",
    "        g.nodes[node][\"r\"] = 0\n",
    "\n",
    "    #--change state \n",
    "    fun(1,g)\n",
    "    \n",
    "    node = g.nodes[1]\n",
    "    if node[\"s\"] == 0 and node[\"i\"] == 1 and node[\"r\"] == 0:\n",
    "        print(\"Pass\")\n",
    "    else:\n",
    "        print(\"Did not pass, keep trying!\")\n",
    "        \n",
    "#--example test\n",
    "test_function_one( from_s_to_i )"
   ]
  },
  {
   "cell_type": "markdown",
   "metadata": {},
   "source": [
    "### Function two: From Infected to Removed\n",
    "We need a function titled `from_i_to_r` that takes as input a `node` and a `network` and updates this node with the disease state removed. This means that we change the state S to 0, the state I to 0, and the state R to 1.\n",
    "This code should look extremely similar to the code you used to prouce `from_s_to_i` except that we are changing the disease state of a node to removed. *Hint* Start by copy and pasting your `from_s_to_i` code. "
   ]
  },
  {
   "cell_type": "code",
   "execution_count": 236,
   "metadata": {},
   "outputs": [
    {
     "name": "stdout",
     "output_type": "stream",
     "text": [
      "Pass\n"
     ]
    }
   ],
   "source": [
    "#--this is the answer\n",
    "def from_i_to_r(n,g):\n",
    "    pass\n",
    "\n",
    "#--this is for students\n",
    "def test_function_two( fun ):\n",
    "    import networkx as nx\n",
    "    g = nx.gnm_random_graph(10, 5)\n",
    "    \n",
    "    for node in g.nodes():\n",
    "        g.nodes[node][\"s\"] = 1\n",
    "        g.nodes[node][\"i\"] = 0\n",
    "        g.nodes[node][\"r\"] = 0\n",
    "\n",
    "    #--change state \n",
    "    fun(5,g)\n",
    "    \n",
    "    node = g.nodes[5]\n",
    "    if node[\"s\"] == 0 and node[\"i\"] == 0 and node[\"r\"] == 1:\n",
    "        print(\"Pass\")\n",
    "    else:\n",
    "        print(\"Did not pass, keep trying!\")\n",
    "        \n",
    "test_function_two( from_i_to_r)"
   ]
  },
  {
   "cell_type": "markdown",
   "metadata": {},
   "source": [
    "### Function three: Check if a node is in the infected state\n",
    "We need a function titled `is_infected` that takes as input a `node` and a `network` and returns the value one if the node is in the infected state and the value zero otherwise. \n",
    "Remeber that you can access a dictionary of the attributes of a node using the `g.nodes` method. \n",
    "\n",
    "For example, if i access the node titled \"profm\" then a dictionary of attributes will be returned."
   ]
  },
  {
   "cell_type": "code",
   "execution_count": 237,
   "metadata": {},
   "outputs": [
    {
     "data": {
      "text/plain": [
       "{'s': 1, 'i': 0, 'r': 0, 't': 4.444930280198954}"
      ]
     },
     "execution_count": 237,
     "metadata": {},
     "output_type": "execute_result"
    }
   ],
   "source": [
    "#--accessing a dictionary of attirbutes that are attached to the node \"thm220\"\n",
    "g.nodes[\"profm\"]"
   ]
  },
  {
   "cell_type": "code",
   "execution_count": 238,
   "metadata": {},
   "outputs": [
    {
     "name": "stdout",
     "output_type": "stream",
     "text": [
      "Pass\n"
     ]
    }
   ],
   "source": [
    "#--this is the correct answer\n",
    "def is_infected(n,g):\n",
    "    pass\n",
    "\n",
    "#--this is for students\n",
    "def test_function_three( fun ):\n",
    "    import networkx as nx\n",
    "    g = nx.gnm_random_graph(10, 5)\n",
    "    \n",
    "    for node in g.nodes():\n",
    "        g.nodes[node][\"s\"] = 1\n",
    "        g.nodes[node][\"i\"] = 0\n",
    "        g.nodes[node][\"r\"] = 0\n",
    "\n",
    "    #--change state \n",
    "    from_s_to_i(5,g)\n",
    "    \n",
    "    if is_infected(5,g)==1 and is_infected(2,g)==0:\n",
    "        print(\"Pass\")\n",
    "    else:\n",
    "        print(\"Did not pass, keep trying!\")\n",
    "\n",
    "test_function_three( is_infected )"
   ]
  },
  {
   "cell_type": "markdown",
   "metadata": {},
   "source": [
    "### Function four: Check if a node is in the removed state\n",
    "We need a function titled `is_removed` that takes as input a `node` and a `network` and returns the value one if the node is in the removed state and the value zero otherwise.\n",
    "This will look very close to the function above `is_infected`. *Hint* Start by copy and pasting your code above for `is_infected`. "
   ]
  },
  {
   "cell_type": "code",
   "execution_count": 239,
   "metadata": {},
   "outputs": [
    {
     "name": "stdout",
     "output_type": "stream",
     "text": [
      "Pass\n"
     ]
    }
   ],
   "source": [
    "#--this is the correct answer\n",
    "def is_removed(n,g):\n",
    "    pass\n",
    "\n",
    "#--this is for students\n",
    "def test_function_four( fun ):\n",
    "    import networkx as nx\n",
    "    g = nx.gnm_random_graph(10, 5)\n",
    "    \n",
    "    for node in g.nodes():\n",
    "        g.nodes[node][\"s\"] = 1\n",
    "        g.nodes[node][\"i\"] = 0\n",
    "        g.nodes[node][\"r\"] = 0\n",
    "\n",
    "    #--change state \n",
    "    from_s_to_i(5,g)\n",
    "    from_i_to_r(3,g)\n",
    "    \n",
    "    if is_removed(3,g)==1 and is_removed(5,g)==0:\n",
    "        print(\"Pass\")\n",
    "    else:\n",
    "        print(\"Did not pass, keep trying!\")\n",
    "\n",
    "test_function_four( is_removed )"
   ]
  },
  {
   "cell_type": "markdown",
   "metadata": {},
   "source": [
    "### Function five: Count the number of infected nodes\n",
    "We need a function titled `ninfected` that takes as input a `node` and a `network` and returns the number of neighbors of `node` that are in the infected state. You will need the networkx method `neighbors` [https://networkx.org/documentation/stable/reference/classes/generated/networkx.Graph.neighbors.html](https://networkx.org/documentation/stable/reference/classes/generated/networkx.Graph.neighbors.html) and you should use the function you wrote above called `is_infected` to count all the nodes that are infected. \n",
    "\n",
    "The `neigbors` method takes as input a node and returns an iterator of all the neighbors of that node.\n",
    "Iterators can be a bit tricky to work with and so we can change change an interator to a list with the `list` function. \n",
    "For example, suppose i wish to return the list of all nodes that are neighbors of the node \"profm\". \n",
    "Then i can write "
   ]
  },
  {
   "cell_type": "code",
   "execution_count": 240,
   "metadata": {},
   "outputs": [
    {
     "data": {
      "text/plain": [
       "['mvp223',\n",
       " 'aeb623',\n",
       " 'alb323',\n",
       " 'cas823',\n",
       " 'trz223',\n",
       " 'amr224',\n",
       " 'sae224',\n",
       " 'thm220',\n",
       " 'vsb224',\n",
       " 'klb224',\n",
       " 'ven224',\n",
       " 'mjk224',\n",
       " 'cab524',\n",
       " 'jrh224',\n",
       " 'hek320',\n",
       " 'crg324',\n",
       " 'eeo224',\n",
       " 'cob224',\n",
       " 'heg224',\n",
       " 'kip224',\n",
       " 'maf320',\n",
       " 'gmk225',\n",
       " 'avb225',\n",
       " 'nep225',\n",
       " 'kah225',\n",
       " 'aev225',\n",
       " 'pag225',\n",
       " 'bbm325',\n",
       " 'cto225',\n",
       " 'anb225',\n",
       " 'moe325',\n",
       " 'asp222']"
      ]
     },
     "execution_count": 240,
     "metadata": {},
     "output_type": "execute_result"
    }
   ],
   "source": [
    "list(g.neighbors(\"profm\"))"
   ]
  },
  {
   "cell_type": "code",
   "execution_count": 241,
   "metadata": {},
   "outputs": [
    {
     "name": "stdout",
     "output_type": "stream",
     "text": [
      "Pass\n"
     ]
    }
   ],
   "source": [
    "#--this is the correct answer\n",
    "def ninfected(n,g):\n",
    "    pass\n",
    "\n",
    "\n",
    "#--this is for students to test\n",
    "def test_function_five( fun ):\n",
    "    import networkx as nx\n",
    "    g = nx.gnm_random_graph(10, 5)\n",
    "    \n",
    "    for node in g.nodes():\n",
    "        g.nodes[node][\"s\"] = 1\n",
    "        g.nodes[node][\"i\"] = 0\n",
    "        g.nodes[node][\"r\"] = 0\n",
    "\n",
    "    #--choose node 5 and add neighbors until three\n",
    "    num_neighbors = len(list(g.neighbors(5)))\n",
    "    while num_neighbors <= 3:\n",
    "            non_neighbors = set(np.arange(10)) - set(list(g.neighbors(5)))\n",
    "            node_to_add = np.random.choice(list(non_neighbors))\n",
    "            g.add_edge(5,node_to_add)\n",
    "            \n",
    "            num_neighbors = len(list(g.neighbors(5)))\n",
    "    \n",
    "    #--change state \n",
    "    random_neighbors = np.random.choice(list(g.neighbors(5)), 3, replace=False) \n",
    "    for node in random_neighbors:\n",
    "        from_s_to_i(node,g)\n",
    "    \n",
    "    result = ninfected(5,g)\n",
    "    \n",
    "    if not isinstance(result, int):\n",
    "        print(\"Make sure to return an integer\")\n",
    "    else:\n",
    "        if ninfected(5,g)==3:\n",
    "            print(\"Pass\")\n",
    "        else:\n",
    "            print(\"Did not pass, keep trying!\")\n",
    "test_function_five(ninfected)"
   ]
  },
  {
   "cell_type": "markdown",
   "metadata": {},
   "source": [
    "### Function six: Probability of infection\n",
    "We need a function titled `prob_of_infection` that takes as input a `node`, `network`, and a probability of transmission `p` and returns the probability that at least one infected neighbor will infect `node`. \n",
    "You should use the function `ninfected` to compute the number of infected neighbors of `node`."
   ]
  },
  {
   "cell_type": "code",
   "execution_count": 242,
   "metadata": {},
   "outputs": [
    {
     "name": "stdout",
     "output_type": "stream",
     "text": [
      "Pass\n"
     ]
    }
   ],
   "source": [
    "#--this is the correct answer\n",
    "def prob_of_infection(n,g,p):\n",
    "    pass\n",
    "\n",
    "\n",
    "#--this is for students to test\n",
    "def test_function_six( fun ):\n",
    "    import networkx as nx\n",
    "    g = nx.gnm_random_graph(10, 5)\n",
    "    \n",
    "    for node in g.nodes():\n",
    "        g.nodes[node][\"s\"] = 1\n",
    "        g.nodes[node][\"i\"] = 0\n",
    "        g.nodes[node][\"r\"] = 0\n",
    "\n",
    "    #--add some certain edges\n",
    "    g.add_edge(1,5)\n",
    "    g.add_edge(2,5)\n",
    "    g.add_edge(9,5)\n",
    "    \n",
    "    #--infect\n",
    "    from_s_to_i(1,g)\n",
    "    from_s_to_i(9,g)\n",
    "    \n",
    "    #--test\n",
    "    p=0.3\n",
    "    \n",
    "    correct_ans = 1 - (1-p)**2\n",
    "    proposed_ans = prob_of_infection(5,g,p)\n",
    "    \n",
    "    if correct_ans == proposed_ans:\n",
    "        print(\"Pass\")\n",
    "    else:\n",
    "        print(\"Did not pass, keep trying!\")\n",
    "test_function_six(prob_of_infection)"
   ]
  },
  {
   "cell_type": "markdown",
   "metadata": {},
   "source": [
    "### Function seven: List all the infected nodes\n",
    "We will need a function titled `infected_nodes` that takes as input a network and returns a list of all the nodes that are in the infected state. You can create an empty list titled `infected_nodes`, loop through all nodes $(n)$ in a network `g` using the `nodes()` method, determine if the node $n$ is infected and append it to the list `infected_nodes`. If a node is not infected than we skip that node and move to the next node in the loop.\n",
    "\n",
    "```\n",
    "for node in g.nodes():\n",
    "    <Code to determine if a node is infected and add to a list titled infected_nodes>\n",
    "```"
   ]
  },
  {
   "cell_type": "code",
   "execution_count": 243,
   "metadata": {},
   "outputs": [
    {
     "name": "stdout",
     "output_type": "stream",
     "text": [
      "Pass\n"
     ]
    }
   ],
   "source": [
    "#--this is the correct answer\n",
    "def infected_nodes(g):\n",
    "    pass\n",
    "\n",
    "\n",
    "#--this is for students to test\n",
    "def test_function_seven( fun ):\n",
    "    import networkx as nx\n",
    "    g = nx.gnm_random_graph(10, 5)\n",
    "    \n",
    "    for node in g.nodes():\n",
    "        g.nodes[node][\"s\"] = 1\n",
    "        g.nodes[node][\"i\"] = 0\n",
    "        g.nodes[node][\"r\"] = 0\n",
    "    \n",
    "    #--infect\n",
    "    from_s_to_i(1,g)\n",
    "    from_s_to_i(9,g)\n",
    "    from_s_to_i(3,g)\n",
    "    from_s_to_i(2,g)\n",
    "\n",
    "    ans = fun(g)\n",
    "    \n",
    "    if not isinstance(ans, list):\n",
    "        print(\"Must be a list\")\n",
    "    else:\n",
    "        if set(ans) == set([1,9,3,2]):\n",
    "            print(\"Pass\")\n",
    "        else:\n",
    "            print(\"Did not pass, keep trying!\")\n",
    "test_function_seven(infected_nodes)"
   ]
  },
  {
   "cell_type": "markdown",
   "metadata": {},
   "source": [
    "### Function eight: Decrement recovery time\n",
    "We will need a function titled `decrement_time` that takes as input a `node` and a `network` and decreases the `t` attribute that is attached to `node` by one. \n",
    "This function does not need to return anything, it needs to decrement an attribute of our network. "
   ]
  },
  {
   "cell_type": "code",
   "execution_count": 244,
   "metadata": {},
   "outputs": [
    {
     "name": "stdout",
     "output_type": "stream",
     "text": [
      "Pass\n"
     ]
    }
   ],
   "source": [
    "#--this is the correct answer\n",
    "def decrement_time(n,g):\n",
    "    pass\n",
    "\n",
    "#--this is for students to test\n",
    "def test_function_eight( fun ):\n",
    "    import networkx as nx\n",
    "    g = nx.gnm_random_graph(10, 5)\n",
    "    \n",
    "    for node in g.nodes():\n",
    "        g.nodes[node][\"s\"] = 1\n",
    "        g.nodes[node][\"i\"] = 0\n",
    "        g.nodes[node][\"r\"] = 0\n",
    "        g.nodes[node][\"t\"] = 0\n",
    "    \n",
    "    g.nodes[5][\"t\"] = 1\n",
    "        \n",
    "    #--run function\n",
    "    decrement_time(5,g)\n",
    "    \n",
    "    ans = g.nodes[5][\"t\"]\n",
    "    correct_ans = 0\n",
    "       \n",
    "    if ans == correct_ans:\n",
    "         print(\"Pass\")\n",
    "    else:\n",
    "         print(\"Did not pass, keep trying!\")\n",
    "            \n",
    "test_function_eight( decrement_time )"
   ]
  },
  {
   "cell_type": "markdown",
   "metadata": {},
   "source": [
    "### Function nine: Is time up\n",
    "We will need a function titled `is_time_up` that takes as input a `node` and a `network` and returns the value one if the `t` attribute is less than or equal to zero and returns the value zero otherwise.\n",
    "This function will determine if the infectious period for a node is over. "
   ]
  },
  {
   "cell_type": "code",
   "execution_count": 245,
   "metadata": {},
   "outputs": [
    {
     "name": "stdout",
     "output_type": "stream",
     "text": [
      "Pass\n"
     ]
    }
   ],
   "source": [
    "#--this is the correct answer\n",
    "def is_time_up(n,g):\n",
    "    pass\n",
    "\n",
    "\n",
    "#--this is for students to test\n",
    "def test_function_nine( fun ):\n",
    "    import networkx as nx\n",
    "    g = nx.gnm_random_graph(10, 5)\n",
    "    \n",
    "    for node in g.nodes():\n",
    "        g.nodes[node][\"s\"] = 1\n",
    "        g.nodes[node][\"i\"] = 0\n",
    "        g.nodes[node][\"r\"] = 0\n",
    "        g.nodes[node][\"t\"] = 0\n",
    "    \n",
    "    g.nodes[5][\"t\"] = 1\n",
    "        \n",
    "    #--run function\n",
    "    decrement_time(5,g)\n",
    "    \n",
    "    ans = is_time_up(5,g)\n",
    "    correct_ans = 1\n",
    "       \n",
    "    if ans == correct_ans:\n",
    "         print(\"Pass\")\n",
    "    else:\n",
    "         print(\"Did not pass, keep trying!\")\n",
    "            \n",
    "test_function_nine( is_time_up )"
   ]
  },
  {
   "cell_type": "markdown",
   "metadata": {},
   "source": [
    "### Putting all of these functions to use to simulate an outbreak. \n",
    "\n",
    "Given a parameter `p` that describes the probability of an effective contact, we will simulate an outbreak on a network over `T` time steps. \n",
    "Here are all the steps that use your nine function to generate an outbreak."
   ]
  },
  {
   "cell_type": "code",
   "execution_count": 246,
   "metadata": {},
   "outputs": [],
   "source": [
    "#--set our parameters\n",
    "T = 20\n",
    "p = 0.90\n",
    "\n",
    "#--infect one node at random. \n",
    "infect_random_node(g)\n",
    "\n",
    "#--create an empty list that will store the number of prevalent infections over time \n",
    "infections_over_time = []\n",
    "\n",
    "for time in range(T):\n",
    "    pass #--<<remove this when you start coding\n",
    "\n",
    "    #--Create a var called previous_infections that is a list of all infected nodes\n",
    "    previous_infections     = infected_nodes(g)\n",
    "    \n",
    "    #--Create a var called num_previous_infections that counts the number of infected nodes\n",
    "    num_previous_infections = len(previous_infections)\n",
    "\n",
    "    #--Append num_previous_infections to the list infections_over_time\n",
    "    infections_over_time.append(num_previous_infections)\n",
    "\n",
    "    #--Section: propogate infections\n",
    "    for node in g.nodes():\n",
    "        #--Compute the probability that node is infected (use your prob_of_infection function)\n",
    "        #--MAKE SURE TO CALL THIS PROBABILITY \"prob\"\n",
    "        prob = prob_of_infection(node,g,p)\n",
    "\n",
    "        #--If the node is in the removed state, skip this node by using the \"continue\" comand\n",
    "        #--Note: you will want to use your is_removed function. \n",
    "        if is_removed(node,g):\n",
    "            continue\n",
    "        \n",
    "        #--This piece of code infects a node with probability prob\n",
    "        if np.random.random() < prob:\n",
    "            from_s_to_i(node,g)\n",
    "            \n",
    "    #--Section: Recovery\n",
    "    #--Loop through all infected individuals \n",
    "    for infected in previous_infections:\n",
    "        #--include code that changes the disease state of the node infected to the recovered state\n",
    "        #--you will need your function titled from_i_to_r\n",
    "        from_i_to_r(infected,g)"
   ]
  },
  {
   "cell_type": "markdown",
   "metadata": {},
   "source": [
    "Please plot the list `infections_over_time`.\n",
    "Add an xlabel using either `plt.xlabel` or `ax.set_xlabel` with the text \"Time\" and a ylabel with the text \"Number of infections\". "
   ]
  },
  {
   "cell_type": "code",
   "execution_count": 247,
   "metadata": {},
   "outputs": [
    {
     "data": {
      "text/plain": [
       "Text(0, 0.5, 'Number of infections')"
      ]
     },
     "execution_count": 247,
     "metadata": {},
     "output_type": "execute_result"
    },
    {
     "data": {
      "image/png": "[encoded data removed]",
      "text/plain": [
       "<Figure size 432x288 with 1 Axes>"
      ]
     },
     "metadata": {
      "needs_background": "light"
     },
     "output_type": "display_data"
    }
   ],
   "source": [
    "#--student will complete this plot "
   ]
  },
  {
   "cell_type": "markdown",
   "metadata": {},
   "source": [
    "### FINAL  STEP\n",
    "\n",
    "Please wrap all of the code above into a function titled `simulate_outbreak`.\n",
    "This function will take two arguments: `T` and `p` and returns `infections_over_time`."
   ]
  },
  {
   "cell_type": "code",
   "execution_count": 248,
   "metadata": {},
   "outputs": [],
   "source": [
    "def simulate_outbreak(T,p=0.1):\n",
    "    #--make sure everyone is susceptible\n",
    "    for node in g.nodes():\n",
    "        g.nodes[node][\"s\"] = 1\n",
    "        g.nodes[node][\"i\"] = 0\n",
    "        g.nodes[node][\"r\"] = 0\n",
    "\n",
    "    ##--assigning infectious periods to everyone if they get infected\n",
    "    recovery_times = np.random.gamma(5,1, size=len(g))\n",
    "\n",
    "    for r,node in zip(recovery_times, g.nodes()):\n",
    "        g.nodes[node][\"t\"] = r\n",
    "\n",
    "    #--add an infection \n",
    "    patient0 = np.random.choice(list(g.nodes()))\n",
    "\n",
    "    g.nodes[patient0][\"s\"]=0\n",
    "    g.nodes[patient0][\"i\"]=1\n",
    "    g.nodes[patient0][\"r\"]=0\n",
    "\n",
    "    infections_over_time = []\n",
    "\n",
    "    for time in range(T):\n",
    "        previous_infections     = infected_nodes(g)\n",
    "        \n",
    "        num_previous_infections = len(previous_infections)\n",
    "\n",
    "        infections_over_time.append(num_previous_infections)\n",
    "\n",
    "        #--propogate infections\n",
    "        for node in g.nodes():\n",
    "            prob = prob_of_infection(node,g,p)\n",
    "\n",
    "            #--skip this node if it is removed\n",
    "            if is_removed(node,g):\n",
    "                continue\n",
    "            \n",
    "            #--infection!\n",
    "            if np.random.random() < prob:\n",
    "                from_s_to_i(node,g)\n",
    "\n",
    "        #--remove all previous infections \n",
    "        for infected in previous_infections:\n",
    "            decrement_time(infected,g)\n",
    "\n",
    "            if is_time_up(infected,g):\n",
    "                from_i_to_r(infected,g)\n",
    "    return infections_over_time"
   ]
  },
  {
   "cell_type": "markdown",
   "metadata": {},
   "source": [
    "The codebelow takes your `simulate outbreak` function, runs this 1000 times, and plots the number of prevalent cases for each iteration. "
   ]
  },
  {
   "cell_type": "code",
   "execution_count": 249,
   "metadata": {},
   "outputs": [
    {
     "name": "stdout",
     "output_type": "stream",
     "text": [
      " Simulating 999"
     ]
    },
    {
     "data": {
      "image/png": "[encoded data removed]",
      "text/plain": [
       "<Figure size 432x288 with 1 Axes>"
      ]
     },
     "metadata": {
      "needs_background": "light"
     },
     "output_type": "display_data"
    }
   ],
   "source": [
    "import sys\n",
    "infections = []\n",
    "for i in range(1000):\n",
    "    sys.stdout.write(\"\\r Simulating {:03d}\".format(i))\n",
    "    infections_over_time = simulate_outbreak(T=50,p=0.1)\n",
    "    plt.plot(infections_over_time, color= \"blue\", alpha=0.1)\n",
    "\n",
    "plt.ylabel(\"Incident infections\")\n",
    "plt.xlabel(\"time\")\n",
    "plt.show()"
   ]
  },
  {
   "cell_type": "markdown",
   "metadata": {},
   "source": [
    "What factors are responsible for the collections of different trajectories of the number of infections over time? \n",
    "In what ways does a model like this relate to a system of differential equations (like the SIR) and in what ways does this model differ from an SIR-like model? \n"
   ]
  }
 ],
 "metadata": {
  "celltoolbar": "Tags",
  "kernelspec": {
   "display_name": "Python 3 (ipykernel)",
   "language": "python",
   "name": "python3"
  },
  "language_info": {
   "codemirror_mode": {
    "name": "ipython",
    "version": 3
   },
   "file_extension": ".py",
   "mimetype": "text/x-python",
   "name": "python",
   "nbconvert_exporter": "python",
   "pygments_lexer": "ipython3",
   "version": "3.10.8"
  }
 },
 "nbformat": 4,
 "nbformat_minor": 4
}
