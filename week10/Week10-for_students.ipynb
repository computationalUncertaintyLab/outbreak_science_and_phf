{
 "cells": [
  {
   "cell_type": "markdown",
   "metadata": {},
   "source": [
    "## Week 10\n",
    "\n",
    "**Background**:\n",
    "An important part of mathematical mdoeling is fitting compartmental models to observed data that is collected from a surveillance system. \n",
    "Compartmental model can be thought of as functions from time and a set of parameters to a set of states over time. \n",
    "For example, we can think of the SIR model as a function that takes as input times $t = [t_{0},t_{1},t_{2}, \\cdots, t_{T}]$, two parameter values $\\theta = (\\beta, \\gamma)$ and then outputs the proportion of susceptibles, infected, removed, and incident infections (which you can derive from the previous lab) over time. \n",
    "\n",
    "\\begin{align}\n",
    "    t &= (t_{0}, t_{1}, \\cdots, t_{T})\\\\\n",
    "    \\theta &= (3/2, 1/2)\\\\\n",
    "    M &= \\textrm{SIR}( t; \\theta )\n",
    "\\end{align}\n",
    "\n",
    "where $M$ is the matrix \n",
    "\n",
    "\\begin{align}\n",
    "    M = \\begin{bmatrix}\n",
    "    S_{0} & S_{1} & S_{2} & \\cdots & S_{T} \\\\   \n",
    "    I_{0} & I_{1} & I_{2} & \\cdots & I_{T} \\\\\n",
    "    R_{0} & R_{1} & R_{2} & \\cdots & R_{T} \\\\\n",
    "    i_{0} & i_{1} & i_{2} & \\cdots & i_{T} \\\\\n",
    "    \\end{bmatrix}\n",
    "\\end{align}\n",
    "\n",
    "Lets assume that we collect the number of incident infected cases over the times $t = [0,1,2,3,4,5,\\cdots,10]$ and plot this as black circles (below). "
   ]
  },
  {
   "cell_type": "code",
   "execution_count": 13,
   "metadata": {
    "hide_input": true
   },
   "outputs": [
    {
     "data": {
      "image/png": "[encoded data removed]",
      "text/plain": [
       "<Figure size 432x288 with 1 Axes>"
      ]
     },
     "metadata": {
      "needs_background": "light"
     },
     "output_type": "display_data"
    }
   ],
   "source": [
    "from scipy.integrate import solve_ivp\n",
    "\n",
    "import numpy as np \n",
    "import matplotlib.pyplot as plt \n",
    "\n",
    "N = 1000 #--number of animals in system \n",
    "\n",
    "#--SIR differential equations\n",
    "def sir(t,y, beta, gamma):\n",
    "    s,i, r, c = y\n",
    "    ds_dt = -beta*s*i\n",
    "    di_dt = beta*s*i - gamma*i\n",
    "    dr_dt = gamma*i\n",
    "    \n",
    "    dc_dt = beta*s*i #--incident cases\n",
    "    return [ds_dt, di_dt, dr_dt, dc_dt]\n",
    "\n",
    "#--start and end times \n",
    "start,end = 0., 10\n",
    "\n",
    "#--times that we want to return s(t), i(t), r(t)\n",
    "tvals = np.arange(start,end+0.1,0.1)\n",
    "\n",
    "#--inital conditions for s, i, r\n",
    "initial_conditions = (0.999, 0.001, 0., 0.001)\n",
    "\n",
    "#--parameters for the model \n",
    "beta, gamma = 3./2, 1./2\n",
    "\n",
    "#--function to return s,i,r over time\n",
    "solution = solve_ivp( fun = sir\n",
    "                     , t_span = (start,end)\n",
    "                     , y0     = initial_conditions\n",
    "                     , t_eval = tvals\n",
    "                     , args   = (beta, gamma))\n",
    "incidence = np.append( 0.00, np.diff(solution.y[-1,:]) )\n",
    "\n",
    "#--add poisson noise\n",
    "noisy_inc = np.random.poisson(incidence*N)\n",
    "\n",
    "fig,ax = plt.subplots()\n",
    "ax.scatter(tvals, noisy_inc, s=5,color=\"black\")\n",
    "\n",
    "ax.set_xlabel(\"Time\")\n",
    "ax.set_ylabel(\"Incidence\")\n",
    "\n",
    "plt.show()"
   ]
  },
  {
   "cell_type": "markdown",
   "metadata": {
    "hide_input": true
   },
   "source": [
    "If we assume that this data is expected to follow SIR dynamics then we suppose two items: (i) that there exists a true SIR model and single set of parameter values $\\theta$---$M = \\textrm{SIR}(t; \\theta = (\\beta, \\gamma) )$---that are used to generate the underlying true, never observed, number of incident cases and (ii) that there exists a sequence of random variables that use the output from our SIR model to generate the observed number of incident cases over time. \n",
    "\n",
    "For example, we might suppose that the data above is generated by a sequence of poisson random variables that depend on the number of incident cases at time 1, time 2, time 3, and so on\n",
    "\n",
    "\\begin{align}\n",
    "    \\mathcal{D} = (y_{1}, y_{2}, \\cdots, y_{T})\\\\ \n",
    "    y_{1} \\sim Y_{1}; \\; y_{2} \\sim Y_{2}; \\; \\cdots \\; ; y_{T} \\sim Y_{T};\\\\  \n",
    "    Y_{1} \\sim \\textrm{Pois}(i_{1}) , Y_{2} \\sim \\textrm{Pois}(i_{2}), \\cdots, Y_{t} \\sim \\textrm{Pois}(i_{t})\\\\\n",
    "    \\\\ \n",
    "    i_{t} = \\textrm{SIR}(t; 3;  \\theta)\n",
    "\\end{align}\n",
    "\n",
    "where $\\textrm{SIR}(t; n;  \\theta)$ is the nth row of the output $M$ from an SIR model.  \n",
    "This means that different parameter values will lead to different underlying incident cases that may have generated our data. \n",
    "For example, below i have plotted noisy observations of incident cases and three different curves for incident cases that are generated from our SIR model with three different parameter settings. "
   ]
  },
  {
   "cell_type": "code",
   "execution_count": 14,
   "metadata": {
    "hide_input": true,
    "scrolled": true
   },
   "outputs": [
    {
     "data": {
      "image/png": "[encoded data removed]",
      "text/plain": [
       "<Figure size 432x288 with 1 Axes>"
      ]
     },
     "metadata": {
      "needs_background": "light"
     },
     "output_type": "display_data"
    }
   ],
   "source": [
    "from scipy.integrate import solve_ivp\n",
    "\n",
    "import numpy as np \n",
    "import matplotlib.pyplot as plt \n",
    "\n",
    "N = 1000 #--number of animals in system \n",
    "\n",
    "#--SIR differential equations\n",
    "def sir(t,y, beta, gamma):\n",
    "    s,i, r, c = y\n",
    "    ds_dt = -beta*s*i\n",
    "    di_dt = beta*s*i - gamma*i\n",
    "    dr_dt = gamma*i\n",
    "    \n",
    "    dc_dt = beta*s*i #--incident cases\n",
    "    return [ds_dt, di_dt, dr_dt, dc_dt]\n",
    "\n",
    "#--start and end times \n",
    "start,end = 0., 10\n",
    "\n",
    "#--times that we want to return s(t), i(t), r(t)\n",
    "tvals = np.arange(start,end+0.1,0.1)\n",
    "\n",
    "#--inital conditions for s, i, r\n",
    "initial_conditions = (0.999, 0.001, 0., 0.001)\n",
    "\n",
    "#--parameters for the model \n",
    "beta, gamma = 3./2, 1./2\n",
    "\n",
    "#--function to return s,i,r over time\n",
    "solution = solve_ivp( fun = sir\n",
    "                     , t_span = (start,end)\n",
    "                     , y0     = initial_conditions\n",
    "                     , t_eval = tvals\n",
    "                     , args   = (beta, gamma))\n",
    "incidence = np.append( 0.00, np.diff(solution.y[-1,:]) )\n",
    "\n",
    "#--add poisson noise\n",
    "noisy_inc = np.random.poisson(incidence*N)\n",
    "\n",
    "fig,ax = plt.subplots()\n",
    "ax.scatter(tvals, noisy_inc, s=5,color=\"black\")\n",
    "\n",
    "solution = solve_ivp( fun = sir\n",
    "                     , t_span = (start,end)\n",
    "                     , y0     = initial_conditions\n",
    "                     , t_eval = tvals\n",
    "                     , args   = (4, 3.25))\n",
    "incidence = np.append( 0.00, np.diff(solution.y[-1,:]) )\n",
    "ax.plot(tvals, N*incidence, color=\"red\", label = r\"$\\theta = (4, 3.25)$\")\n",
    "\n",
    "solution = solve_ivp( fun = sir\n",
    "                     , t_span = (start,end)\n",
    "                     , y0     = initial_conditions\n",
    "                     , t_eval = tvals\n",
    "                     , args   = (1, 1./3))\n",
    "incidence = np.append( 0.00, np.diff(solution.y[-1,:]) )\n",
    "ax.plot(tvals, N*incidence, color=\"blue\", label = r\"$\\theta = (1, 0.33)$\")\n",
    "\n",
    "solution = solve_ivp( fun = sir\n",
    "                     , t_span = (start,end)\n",
    "                     , y0     = initial_conditions\n",
    "                     , t_eval = tvals\n",
    "                     , args   = (3./2, gamma))\n",
    "incidence = np.append( 0.00, np.diff(solution.y[-1,:]) )\n",
    "ax.plot(tvals, N*incidence, color=\"orange\", label = r\"$\\theta = (3/2,1/2)$\")\n",
    "\n",
    "ax.legend()\n",
    "\n",
    "ax.set_xlabel(\"Time\")\n",
    "ax.set_ylabel(\"Incidence\")\n",
    "\n",
    "plt.show()"
   ]
  },
  {
   "cell_type": "markdown",
   "metadata": {},
   "source": [
    "Model fitting is deciding, assuming our model is the true process that generated our data, which parameter values are most likely to have generated the observations that we have collected.\n",
    "\n",
    "The first step to building a model fit is to validate our model. \n",
    "\n",
    "Validating a model consists of three steps:\n",
    "1. Propose an algorithm for identifying the parameter values that generated the data\n",
    "2. Develop a simulation that uses this model, and user specific parameter values, to generate a dataset\n",
    "3. Apply the proposed fit algorithm to the simulated data to see if this algorithm can recover the true parameter values. "
   ]
  },
  {
   "cell_type": "markdown",
   "metadata": {
    "hide_input": true
   },
   "source": [
    "### Simulating a synthetic data set\n",
    "\n",
    "Lets first use our code from Week 09-10 produce a synthetic dataset for the SIR model.\n",
    "We'll recover the number of incident cases from the system for a specific set of parameter values and assume that our dataset is generated by a sequence of Poisson distributed random variables.\n",
    "The above task is the last problem on the homework. "
   ]
  },
  {
   "cell_type": "code",
   "execution_count": 15,
   "metadata": {},
   "outputs": [
    {
     "data": {
      "image/png": "[encoded data removed]",
      "text/plain": [
       "<Figure size 900x300 with 1 Axes>"
      ]
     },
     "metadata": {
      "needs_background": "light"
     },
     "output_type": "display_data"
    }
   ],
   "source": [
    "#--import packages\n",
    "from scipy.integrate import solve_ivp\n",
    "\n",
    "import numpy as np \n",
    "import matplotlib.pyplot as plt \n",
    "\n",
    "N = 1000 #--number of animals in system \n",
    "\n",
    "#--SIR differential equations\n",
    "def sir(t,y, beta, gamma):\n",
    "    s,i, r, c = y\n",
    "    ds_dt = -beta*s*i\n",
    "    di_dt = beta*s*i - gamma*i\n",
    "    dr_dt = gamma*i\n",
    "    \n",
    "    dc_dt = beta*s*i #--incident cases\n",
    "    return [ds_dt, di_dt, dr_dt, dc_dt]\n",
    "\n",
    "#--start and end times \n",
    "start,end = 0., 20\n",
    "\n",
    "#--times that we want to return s(t), i(t), r(t)\n",
    "tvals = np.arange(start,end+0.1,0.1)\n",
    "\n",
    "#--inital conditions for s, i, r\n",
    "initial_conditions = (0.999, 0.001, 0., 0.001)\n",
    "\n",
    "#--parameters for the model \n",
    "beta, gamma = 4, 1./(1./3)\n",
    "\n",
    "#--function to return s,i,r over time\n",
    "solution = solve_ivp( fun = sir\n",
    "                     , t_span = (start,end)\n",
    "                     , y0     = initial_conditions\n",
    "                     , t_eval = tvals\n",
    "                     , args   = (beta, gamma))\n",
    "\n",
    "#--extract from the solution object the times and a matrix of the three states\n",
    "times  = solution.t\n",
    "sir    = solution.y\n",
    "\n",
    "#--compute incident cases\n",
    "inc_cases = N*np.diff(sir[3,:])\n",
    "\n",
    "#--add poisson noise\n",
    "noisy_inc_cases = np.random.poisson(inc_cases)\n",
    "\n",
    "#--draw i(t)\n",
    "fig, ax = plt.subplots()\n",
    "fig.set_size_inches(12.5,12.5/3)\n",
    "\n",
    "ax.plot(   times[1:] ,inc_cases)\n",
    "ax.scatter(times[1:] ,noisy_inc_cases, s=5, color=\"black\")\n",
    "\n",
    "#--set y and xlabel \n",
    "ax.set_xlabel(\"Time (days)\", fontsize=10)\n",
    "ax.set_ylabel(\"inc(t)\", fontsize=10)\n",
    "\n",
    "fig.set_tight_layout(True) #--adjust graph to fit labels\n",
    "\n",
    "#--show the plot (not needed but is nice to include)\n",
    "plt.show()"
   ]
  },
  {
   "cell_type": "markdown",
   "metadata": {},
   "source": [
    "Lets print out this dataset called `noisy_inc_cases`"
   ]
  },
  {
   "cell_type": "code",
   "execution_count": 16,
   "metadata": {},
   "outputs": [
    {
     "name": "stdout",
     "output_type": "stream",
     "text": [
      "[ 1  0  0  1  0  0  2  1  2  0  0  0  2  5  1  2  5  2  4  3  5  5  2  4\n",
      "  6  5  3  5  5  4  6  5  6  7  3  7  8 10 12 16 13 11 13 13  8 15  7 13\n",
      "  5 24 11 11  9 10 15  9 13 15  6  9  8 10 12  8  7  5  4  2  3  4  3  1\n",
      "  6  5  3  3  1  2  5  1  1  4  2  2  0  1  2  4  6  1  2  0  0  1  3  0\n",
      "  1  0  0  0  1  2  0  2  0  0  1  2  0  0  0  0  0  0  0  0  0  0  0  0\n",
      "  0  1  0  0  0  0  0  0  0  0  0  0  0  0  0  0  0  0  0  0  0  0  0  0\n",
      "  0  0  0  0  0  0  0  0  0  0  0  0  0  0  0  0  0  0  0  0  0  0  0  0\n",
      "  0  0  0  0  0  0  0  0  0  0  0  0  0  0  0  0  0  0  0  0  0  0  0  0\n",
      "  0  0  0  0  0  0  0  0]\n"
     ]
    }
   ],
   "source": [
    "print(noisy_inc_cases)"
   ]
  },
  {
   "cell_type": "markdown",
   "metadata": {},
   "source": [
    "The input to our \"fit algorithm\" is the above sequence of observed incident cases. \n",
    "The output to our algorithm needs to be a tuple of parameter values $\\theta = (\\beta, \\gamma)$ such that these parameter values are the most likely to have generated the above sequence of values. "
   ]
  },
  {
   "cell_type": "markdown",
   "metadata": {},
   "source": [
    "### Maximum likelihood estimation (MLE)\n",
    "\n",
    "The first algorithm that we will use is **maximum likelihood estimation**. \n",
    "MLE assigns a probability to each of the above observations that depends on the parameters $\\theta = (\\beta, \\gamma)$ and maximizes the loglikelihood (proportional to the probability assigned to the dataset). \n",
    "\n",
    "**Setup**:\n",
    "Suppose that we are handed a dataset of the number of incident cases which was collected over time from a surveillance system $\\mathcal{D} = (y_{1},y_{2}, \\cdots y_{t})$.\n",
    "We can assume that this data was generated i.i.d from a sequence of Poisson distributed random variables \n",
    "$(Y_{1}, Y_{2}, \\cdots, Y_{t})$ where \n",
    "\n",
    "\\begin{align}\n",
    "    Y_{i} \\sim \\textrm{Poisson}(\\lambda(t))\n",
    "\\end{align}\n",
    "\n",
    "and \n",
    "\n",
    "\\begin{align}\n",
    "    \\lambda(t) = \\textrm{inc}(t)\n",
    "\\end{align}\n",
    "\n",
    "That is, if we knew the true number of incident cases at time $0,1,2,\\cdots, T $ then we could compute the loglikelihood.\n",
    "\n",
    "To compute the loglikelihood we will need to take the logarithm of the probability mass function for a poisson distributed random variable. \n",
    "The probability mass function (pmf) for a poisson distributed random variable $Y$ is \n",
    "\n",
    "\\begin{align}\n",
    "    P(Y=y) = e^{\\lambda} \\frac{\\lambda^{y}}{y!}\n",
    "\\end{align}\n",
    "\n",
    "The logarithm of the above pmf is \n",
    "\n",
    "\\begin{align}\n",
    "    \\log \\left[P(Y=y)\\right] &= \\log\\left[e^{-\\lambda} \\frac{\\lambda^{y}}{y!} \\right]\\\\\n",
    "                             &= -\\lambda + y\\log(\\lambda) - \\log(y!)\n",
    "\\end{align}\n",
    "\n",
    "and so given parameters $(\\lambda(1),\\lambda(2), \\cdots, \\lambda(t) )$ the log likelihood for $t$ data points is \n",
    "\n",
    "\\begin{align}\n",
    "    \\ell \\ell (\\lambda) &= \\log \\left [ P(y_{1}, y_{2}, \\cdots, y_{t})  \\right]   \\\\ \n",
    "    &= \\log \\left [ P(y_{1}) P(y_{2}) \\cdots P(y_{t})  \\right]  \\; & \\textrm{independence} \\\\ \n",
    "    &= \\log \\left [ P(y_{1})\\right] +  \\log \\left [P(y_{2}) \\right] + \\cdots +  \\log \\left [P(y_{t}) \\right]  \\; & \\textrm{log rules} \\\\ \n",
    "    &=  \\sum_{i=1}^{t}\\log \\left [ P(y_{i})\\right] \\\\ \n",
    "    &=  \\sum_{i=1}^{t} -\\lambda_{i} + y_{i}\\log(\\lambda_{i}) - \\log(y_{i}!) \\\\ \n",
    "    \\ell \\ell (\\lambda) &=  \\sum_{i=1}^{t} -\\lambda_{i} + y_{i}\\log(\\lambda_{i})  & \\textrm{lambda does not impact y factorial} \\\\ \n",
    "\\end{align}\n",
    "\n",
    "The above $\\lambda_{i}$ values are our incident cases generated by from our SIR model. \n",
    "\n",
    "\\begin{align}\n",
    "    \\ell \\ell (\\lambda) &=  \\sum_{i=1}^{t} -\\lambda_{i} + y_{i}\\log(\\lambda_{i}) \\\\ \n",
    "    &= \\sum_{i=1}^{t} -\\textrm{inc}(i) + y_{i}\\log(\\textrm{inc}(i))\n",
    "\\end{align}\n",
    "\n",
    "Our goal then is to find the parameters $\\theta = (\\beta, \\gamma)$ that maximize the loglikelihood or \n",
    "\n",
    "\\begin{align}\n",
    "    \\max_{\\theta} \\ell \\ell (\\theta | \\mathcal{D}) \n",
    "\\end{align}\n",
    "\n",
    "Instead of maximizing the loglikelihood we can equivalently minimize the **negative** loglikelihood. \n",
    "\n",
    "\\begin{align}\n",
    "    \\max_{\\theta} \\ell \\ell (\\theta | \\mathcal{D}) = \\min_{\\theta} -\\ell \\ell (\\theta | \\mathcal{D}) \n",
    "\\end{align}\n",
    "\n",
    "We can use a function called `minimize` from `scipy.optimize` to minimize the negative loglikelihood. \n",
    "Documentation for the minimize function is here = [https://docs.scipy.org/doc/scipy/tutorial/optimize.html](https://docs.scipy.org/doc/scipy/tutorial/optimize.html). \n",
    "\n",
    "The minimize function takes two required arguments:\n",
    "- A function to minimize (for us the negative loglikelihood) that takes as input a vector of parameters (for us this is beta and gamma)\n",
    "- A starting point for the parameters values that we wish to optimize.\n",
    "- We will also provide this function an optional argument called `args` and will input into this argument our data, a vector of incident cases. \n",
    "\n",
    "If we supply the above three items then the minimize function will return the parameter values that minimize `fun`. \n",
    "\n",
    "The above would be easy to compute if we had a function that directly maps parameter values $\\theta = (\\beta, \\gamma)$ to a sequence of incident cases. \n",
    "However, inbetween our parameter values $\\theta = (\\beta, \\gamma)$ and the proposed number of incident cases is a system of differential equations that we need to solve. \n",
    "That is, the sequence of values $\\textrm{inc}(0),\\textrm{inc}(1),\\textrm{inc}(2), \\cdots, \\textrm{inc}(T)$ is computed from our SIR model."
   ]
  },
  {
   "cell_type": "code",
   "execution_count": 17,
   "metadata": {},
   "outputs": [],
   "source": [
    "from scipy.optimize import minimize #--import minimize function "
   ]
  },
  {
   "cell_type": "markdown",
   "metadata": {},
   "source": [
    "#### First we should bundle our SIR model so that we input parameters and output incident cases. "
   ]
  },
  {
   "cell_type": "code",
   "execution_count": 18,
   "metadata": {},
   "outputs": [],
   "source": [
    "def generate_proposed_inc_cases(beta_gamma, N, inital_conditions, start_end):\n",
    "    import numpy as np \n",
    "    from scipy.integrate import solve_ivp\n",
    "        \n",
    "    #--SIR differential equations\n",
    "    def sir(t,y, beta, gamma):\n",
    "        s,i, r, c = y\n",
    "        \n",
    "        ds_dt = -beta*s*i\n",
    "        di_dt = beta*s*i - gamma*i\n",
    "        dr_dt = gamma*i\n",
    "\n",
    "        dc_dt = beta*s*i #--incident cases\n",
    "        return [ds_dt, di_dt, dr_dt, dc_dt]\n",
    "    \n",
    "    #--lets assume we will always want step sizes of 0.1\n",
    "    start,end = start_end\n",
    "    tvals = np.arange(start, end+0.1, 0.1)\n",
    "    \n",
    "    #--parse arguments from function \n",
    "    beta,gamma = beta_gamma\n",
    "\n",
    "    #--function to return s,i,r over time\n",
    "    solution = solve_ivp( fun = sir\n",
    "                         , t_span = (start,end)\n",
    "                         , y0     = initial_conditions\n",
    "                         , t_eval = tvals\n",
    "                         , args   = (beta, gamma))\n",
    "\n",
    "    #--extract from the solution object the times and a matrix of the three states\n",
    "    times  = solution.t\n",
    "    sir    = solution.y\n",
    "\n",
    "    #--compute incident cases\n",
    "    inc_cases = N*np.diff(sir[3,:])\n",
    "\n",
    "    return inc_cases"
   ]
  },
  {
   "cell_type": "markdown",
   "metadata": {},
   "source": [
    "#### Second the function to compute the negative loglikelihood "
   ]
  },
  {
   "cell_type": "code",
   "execution_count": 19,
   "metadata": {},
   "outputs": [],
   "source": [
    "def nll(lambdas, data):\n",
    "    import numpy as np \n",
    "    \n",
    "    data    = data + np.finfo(float).eps\n",
    "    lambdas = lambdas + np.finfo(float).eps\n",
    "    \n",
    "    #--computelog likelihood\n",
    "    ll = -1.*np.sum(lambdas) + np.sum(data*np.log(lambdas))\n",
    "    \n",
    "    return float(-1*ll) #--return the negative log likelihood"
   ]
  },
  {
   "cell_type": "markdown",
   "metadata": {},
   "source": [
    "#### Now we need to combine these two pieces together to minimize the negative log likelihood. "
   ]
  },
  {
   "cell_type": "code",
   "execution_count": 20,
   "metadata": {},
   "outputs": [
    {
     "name": "stdout",
     "output_type": "stream",
     "text": [
      "      fun: -457.1235305882425\n",
      " hess_inv: array([[1.74896891e-08, 2.77461828e-08],\n",
      "       [2.77461827e-08, 4.42600414e-08]])\n",
      "      jac: array([ 0.01047134, -0.00354004])\n",
      "  message: 'Desired error not necessarily achieved due to precision loss.'\n",
      "     nfev: 291\n",
      "      nit: 13\n",
      "     njev: 91\n",
      "   status: 2\n",
      "  success: False\n",
      "        x: array([3.61598888, 2.57994223])\n"
     ]
    }
   ],
   "source": [
    "def fit_model(beta_gamma_N       #--this is the argument that minimize will change and maximize \n",
    "             ,N\n",
    "             ,inital_conditions  #--this argument and the one below are needed\n",
    "             ,start_end\n",
    "             ,data ):\n",
    "    proposed_incident_cases = generate_proposed_inc_cases(beta_gamma_N,N, inital_conditions, start_end)\n",
    "    return nll(proposed_incident_cases, data)\n",
    "\n",
    "N                  = 1000 \n",
    "initial_conditions = (0.999, 0.001, 0., 0.001)\n",
    "start_end          = (0,20) \n",
    "data               = noisy_inc_cases \n",
    "\n",
    "results = minimize(fit_model\n",
    "         ,x0   = (1.1,0.5)\n",
    "         ,args = ( N, initial_conditions, start_end, data )\n",
    "        )\n",
    "print(results)\n",
    "\n",
    "estimated_beta, estimated_gamma = results.x"
   ]
  },
  {
   "cell_type": "markdown",
   "metadata": {},
   "source": [
    "Lets compare how well our maximum likelihood estimate compares to the truth. \n",
    "We can plot the true number of incident cases, poisson distributed data, and then an SIR model that is generated from our estimated beta and estimatd gamma. "
   ]
  },
  {
   "cell_type": "code",
   "execution_count": 21,
   "metadata": {},
   "outputs": [
    {
     "data": {
      "image/png": "[encoded data removed]",
      "text/plain": [
       "<Figure size 900x300 with 1 Axes>"
      ]
     },
     "metadata": {
      "needs_background": "light"
     },
     "output_type": "display_data"
    }
   ],
   "source": [
    "#--estimated incident cases\n",
    "N                  = 1000 \n",
    "initial_conditions = (0.999, 0.001, 0., 0.001)\n",
    "start_end          = (0,20) \n",
    "\n",
    "estimated_parameters = (estimated_beta, estimated_gamma)\n",
    "estimated_inc_cases  = generate_proposed_inc_cases(estimated_parameters, N, initial_conditions, start_end)\n",
    "\n",
    "#--draw i(t)\n",
    "fig, ax = plt.subplots()\n",
    "fig.set_size_inches(12.5,12.5/3)\n",
    "\n",
    "ax.plot(times[1:]   ,inc_cases, label=\"truth\")\n",
    "ax.scatter(times[1:],noisy_inc_cases, s=5, color=\"black\")\n",
    "\n",
    "ax.plot(times[1:]   ,estimated_inc_cases, label=\"estimate\")\n",
    "\n",
    "ax.legend()\n",
    "\n",
    "#--set y and xlabel \n",
    "ax.set_xlabel(\"Time (days)\", fontsize=10)\n",
    "ax.set_ylabel(\"inc(t)\", fontsize=10)\n",
    "\n",
    "fig.set_tight_layout(True) #--adjust graph to fit labels\n",
    "\n",
    "plt.show()"
   ]
  },
  {
   "cell_type": "markdown",
   "metadata": {},
   "source": [
    "### HOMEWORK PROBEM 1\n",
    "\n",
    "Please use the code above and reparamterize our model so that we input the parameters $R_{0}$ and $1/\\gamma$ instead of the parameters $\\beta$ and $\\gamma$.\n",
    "Generate noisy incident cases for the following setting:\n",
    "- initial_conditions = (0.99, 0.10, 0.00, 0.10)\n",
    "- $R_{0} = 2.75$ , $1 / \\gamma = 2$, and $N=1000$\n",
    "- start = 0 and end = 15"
   ]
  },
  {
   "cell_type": "markdown",
   "metadata": {},
   "source": [
    "### HOMEWORK PROBLEM 2\n",
    "\n",
    "Please rewrite the function that computes incident cases to accept the parameter $\\mathcal{R}_{0}$ and $1/\\gamma$ instead of $\\beta$ and $\\gamma$. \n",
    "Use this new function to fit our reparameterized SIR model to the noisy incident cases that you genertaed in HW problem one.\n",
    "Plot the true number of incident cases, noisy observations, and estimated number of incident cases. "
   ]
  },
  {
   "cell_type": "markdown",
   "metadata": {},
   "source": [
    "### HOMEWORK PROBLEM 3\n",
    "\n",
    "The last assignment will be to add an additional parameter to our model---$I(0)$.\n",
    "Up until now we have assumed that we know the initial conditions exactly. \n",
    "Lets modify our code so that we estimate $\\mathcal{R}_{0}$, $1 / \\gamma$, and an additional parmaeter $I(0)$.\n",
    "\n",
    "This means that we will not longer need to give our model fit initial conditions, our initial conditions are now a variable that needs to be optimized. \n",
    "\n",
    "Our new parameter $I(0)$ that we will introduce can cause some trouble for the `minimize` function---the variable I(0) can only be between the values 0 and 1. The variable $I(0)$ has **constraints**. \n",
    "To overcome this problem we will need to work with a **transformed version** of $I(0)$. \n",
    "Our transformed $I(0)$ will be the result of a function that maps values from $(-\\infty,\\infty)$ to $[0,1]$.\n",
    "The minimization program will test values on the interval $(-\\infty,\\infty)$ and it will be our job to map those valus to the interval $[0,1]$. \n",
    "\n",
    "We know a function that can map real values to the interval 0 to one! The logistic function. \n",
    "\n",
    "\\begin{align}\n",
    "    l(x) = \\frac{ e^{x} }{1 + e^{x}}\n",
    "\\end{align}\n",
    "\n",
    "1. Update the function `generate_proposed_inc_cases`\n",
    "    - Remove the inital_conditions argument\n",
    "    - Change the parameter argument `R0_duration` to `R0_duration_transformedi0`\n",
    "    - Compute initial conditions inside this function given the above variable `R0_duration_transformedi0`\n",
    "        - Be sure to map the transformedi0 value to the interval [0,1] using the logistic function.   \n",
    "2. Fit your model to the data. What happened? "
   ]
  }
 ],
 "metadata": {
  "kernelspec": {
   "display_name": "Python 3",
   "language": "python",
   "name": "python3"
  },
  "language_info": {
   "codemirror_mode": {
    "name": "ipython",
    "version": 3
   },
   "file_extension": ".py",
   "mimetype": "text/x-python",
   "name": "python",
   "nbconvert_exporter": "python",
   "pygments_lexer": "ipython3",
   "version": "3.9.15"
  }
 },
 "nbformat": 4,
 "nbformat_minor": 4
}
