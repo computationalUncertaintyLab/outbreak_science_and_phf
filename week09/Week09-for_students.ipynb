{
 "cells": [
  {
   "cell_type": "markdown",
   "metadata": {},
   "source": [
    "## Week09\n",
    "\n",
    "**Background**: For us to model the dynamics of surveillance data we will need to be able to compare simulated trajectories of incident cases, deaths, hospitalizations to trajectories that are collected from a surveillance system. \n",
    "\n",
    "**Goal**: To simulate  and explore dynamical systems that estimate the proportion of animals in one of a finite number of disease states.\n",
    "\n",
    "- Simulation\n",
    "    - Simulate SIR model \n",
    "    - Simulate SIS model \n",
    "    - Simulate SEIR model \n",
    "- Adding Stochasticity \n",
    "    - Observational noise  "
   ]
  },
  {
   "cell_type": "markdown",
   "metadata": {},
   "source": [
    "### Simulate SIR model \n",
    "\n",
    "#### model\n",
    "The SIR model assumes that individuals are in one of three disease states: (S)usceptible, (I)nfected, and (R)emoved. \n",
    "This model further assumes that the proportion of individuals who move from S to I and I to R follow the below system of differential equations. \n",
    "\n",
    "\\begin{align}\n",
    "\\frac{ds}{dt} &= -\\beta s i \\\\ \n",
    "\\frac{di}{dt} &= \\beta s i - \\gamma i \\\\ \n",
    "\\frac{dr}{dt} &= \\gamma i \\\\ \n",
    "s(0) &= S_{0} \\\\\n",
    "i(0) &= I_{0} \\\\ \n",
    "r(0) &= R_{0} \n",
    "\\end{align}\n",
    "\n",
    "where $s(0)$, $i(0)$, and $r(0)$ represent the proportion of susceptible, infected, and removed individuals in the population at time 0. These are called **initial conditions**.\n",
    "\n",
    "The SIR model also assumes that the population is **closed**---that no one enters or leaves the system and assumes that the population is **well-mixed**---that all indivivudals come in contact with one another at each time step.\n",
    "Because the system is closed $s+i+r=1$. \n",
    "\n",
    "The SIR model includes two parameters $\\theta = (\\beta, \\gamma)$ that control how the proprotion of s, i, and r move over time.\n",
    "The parameter $\\gamma$ is the rate at which the proportion of infected individuals move to the \"removed\" state. \n",
    "The parameter $\\beta$ is often called wither the force of infection or the effective contact rate and is a combination of the average number of contacts per individual $k$, the probability that the infectious agent of interest is transmiteed during a contact between a susceptible and infectious individual, and the duration of infection. \n",
    "\n",
    "We can estimate the proportion of susceptibles over time $s(t)$, proportion of infected $i(t)$, and proportion of removed $r(t)$ over time by using a numerical integration routine.\n",
    "\n",
    "#### packages needed\n",
    "The `scipy` package includes a function titled `solve_ivp` that will allow us to estimate $[s(t), i(t), r(t)]$.\n",
    "Documentation for the `solve_ivp` is here = [https://docs.scipy.org/doc/scipy/reference/generated/scipy.integrate.solve_ivp.html](https://docs.scipy.org/doc/scipy/reference/generated/scipy.integrate.solve_ivp.html)"
   ]
  },
  {
   "cell_type": "code",
   "execution_count": 251,
   "metadata": {},
   "outputs": [],
   "source": [
    "from scipy.integrate import solve_ivp\n",
    "import numpy as np              #--for computation\n",
    "import matplotlib.pyplot as plt #--for plotting"
   ]
  },
  {
   "cell_type": "markdown",
   "metadata": {},
   "source": [
    "This function requires three arguments:\n",
    "- A function that represents our system of differential equations\n",
    "- A tuple (start,end) that asks solve_ivp to return s, i, r from start to end.  \n",
    "- An array that contains initial conditions (i.e. s(0), i(0), r(0)). \n",
    "\n",
    "We will also provide two optional arguments to solve_ivp: `tval` and `args`.\n",
    "`tval` is an argument that accepts an array of times between start and end and returns s, i ,r for these times.  \n",
    "`args` is a tuple that contains additional arguments to the function that represents our system of differential equations. For the SIR model our additional parameters are beta and gamma. \n",
    "\n",
    "### Step one: Function that represents our system of differential equations "
   ]
  },
  {
   "cell_type": "code",
   "execution_count": 252,
   "metadata": {},
   "outputs": [],
   "source": [
    "def sir(t,y, beta, gamma):\n",
    "    s,i,r = y\n",
    "    ds_dt = -beta*s*i\n",
    "    di_dt = beta*s*i - gamma*i\n",
    "    dr_dt = gamma*i\n",
    "    return [ds_dt, di_dt, dr_dt]"
   ]
  },
  {
   "cell_type": "markdown",
   "metadata": {},
   "source": [
    "The function above takes two required arguments: `t` time and `y` a vector of the states in the system.\n",
    "For the SIR model we have three possible disease states: s, i, r. \n",
    "We also include two additional arguments: beta and gamma. \n",
    "\n",
    "### Step two: Start and End time"
   ]
  },
  {
   "cell_type": "code",
   "execution_count": 253,
   "metadata": {},
   "outputs": [],
   "source": [
    "start = 0    #--start at day 0\n",
    "end   = 20  #--end at day 100 (101 time points)"
   ]
  },
  {
   "cell_type": "markdown",
   "metadata": {},
   "source": [
    "### Step three:  Initial conditions"
   ]
  },
  {
   "cell_type": "code",
   "execution_count": 254,
   "metadata": {},
   "outputs": [],
   "source": [
    "#--set the proportion of s,i,r at time 0. \n",
    "r0 = 0.\n",
    "i0 = 0.01\n",
    "s0 = 1. - i0\n",
    "\n",
    "initial_conditions = (s0,i0,r0)"
   ]
  },
  {
   "cell_type": "markdown",
   "metadata": {},
   "source": [
    "### Step four: Set time points to return states "
   ]
  },
  {
   "cell_type": "code",
   "execution_count": 255,
   "metadata": {},
   "outputs": [],
   "source": [
    "tvals = np.arange(start, end+0.5, 0.5)"
   ]
  },
  {
   "cell_type": "markdown",
   "metadata": {},
   "source": [
    "### Step five: Set parameters"
   ]
  },
  {
   "cell_type": "code",
   "execution_count": 256,
   "metadata": {},
   "outputs": [],
   "source": [
    "beta, duration = 1.25*1.5, 1./(1.5)\n",
    "gamma = 1./duration"
   ]
  },
  {
   "cell_type": "markdown",
   "metadata": {},
   "source": [
    "### Integrating the system.\n",
    "Our final step is to plug in all of the above steps in the `solve_ivp` function. \n",
    "We will store the results of solve_ivp in an object called `solution`. \n",
    "The `solution` object will contain a matrix of `solution.y` where the first column is $s(t)$ at a vector of times (`solution.t`) that we defined by `tvals`. The second column is $i(t)$ and the third column is $r(t)$.  "
   ]
  },
  {
   "cell_type": "code",
   "execution_count": 257,
   "metadata": {},
   "outputs": [],
   "source": [
    "solution = solve_ivp( fun = sir\n",
    "                     , t_span = (start,end)\n",
    "                     , y0     = initial_conditions\n",
    "                     , t_eval = tvals\n",
    "                     , args   = (beta, gamma) )"
   ]
  },
  {
   "cell_type": "code",
   "execution_count": 258,
   "metadata": {},
   "outputs": [],
   "source": [
    "times = solution.t\n",
    "sir   = solution.y "
   ]
  },
  {
   "cell_type": "code",
   "execution_count": 259,
   "metadata": {},
   "outputs": [
    {
     "data": {
      "image/png": "[encoded data removed]",
      "text/plain": [
       "<Figure size 900x300 with 3 Axes>"
      ]
     },
     "metadata": {
      "needs_background": "light"
     },
     "output_type": "display_data"
    }
   ],
   "source": [
    "fig, axs = plt.subplots(1,3)\n",
    "fig.set_size_inches(12.5,12.5/3)\n",
    "\n",
    "ax = axs[0]\n",
    "ax.plot(times,sir[0,:])\n",
    "ax.set_xlabel(\"Time (days)\", fontsize=10)\n",
    "ax.set_ylabel(\"s(t)\", fontsize=10)\n",
    "\n",
    "ax = axs[1]\n",
    "ax.plot(times,sir[1,:])\n",
    "ax.set_xlabel(\"Time (days)\", fontsize=10)\n",
    "ax.set_ylabel(\"i(t)\", fontsize=10)\n",
    "\n",
    "ax = axs[2]\n",
    "ax.plot(times,sir[2,:])\n",
    "ax.set_xlabel(\"Time (days)\", fontsize=10)\n",
    "ax.set_ylabel(\"r(t)\", fontsize=10)\n",
    "\n",
    "fig.set_tight_layout(True) #--adjust graph to fit labels"
   ]
  },
  {
   "cell_type": "markdown",
   "metadata": {},
   "source": [
    "**QSA**: Why did we observe an outbreak (defined as a positive i(t) over some period of time) for this SIR model?\n",
    "\n",
    "**QSA**: What three items in the model could we change to prevent an outbreak?"
   ]
  },
  {
   "cell_type": "markdown",
   "metadata": {},
   "source": [
    "### The SIS model\n",
    "\n",
    "#### model\n",
    "The SIS model assumes that individuals are in one of two states: susceptible or infectious and that the rates of change for s and i follow \n",
    "\n",
    "\\begin{align}\n",
    "    \\frac{ds}{st} &= -\\beta s i + \\gamma i \\\\ \n",
    "    \\frac{di}{st} &=  \\beta s i - \\gamma i \\\\ \n",
    "\\end{align}\n",
    "\n",
    "## HOMEWORK PROBLEM ONE\n",
    "Please use the above template for the SIR model to integrate and plot the solution for an SIS model with \n",
    "Parameters $\\beta = 4.0$ and $\\gamma = 1/1./3.45$. \n",
    "Assume the initial conditions are $s_{0} = 0.99$ and $i_{0} = 0.01$.\n",
    "Estimate the system from 0 to 100 for time steps of 0.1\n",
    "\n",
    "Create three plots.\n",
    "One plot of the proportion of susceptibles over time\n",
    "One plot of the proportion of infected over time\n",
    "One plot of the proportion of infected over time where the ylimits of the plot are from 0.135 to 0.140. Use the `set_ylim` function to scale the ylimits."
   ]
  },
  {
   "cell_type": "markdown",
   "metadata": {},
   "source": [
    "### HOMEWORK PROBLEM TWO\n",
    "\n",
    "The SEIRS model follows the below system of differential equations\n",
    "\n",
    "\\begin{align}\n",
    "    \\frac{ds}{dt} &= -\\beta s i + \\phi r  \\\\ \n",
    "    \\frac{de}{dt} &=  \\beta s i - \\sigma e \\\\ \n",
    "    \\frac{di}{dt} &=  \\sigma e - \\gamma i \\\\ \n",
    "    \\frac{dr}{dt} &=  \\gamma i - \\phi r \\\\ \n",
    "     s(0)& = S_{0}; \\; e(0) = E_{0} \\\\ \n",
    "     i(0)& = I_{0}; \\; r(0) = R_{0} \n",
    "\\end{align}\n",
    "\n",
    "Please use the above template for the SIR and SIS model to integrate and\n",
    "plot the solution for an SEIRS model with \n",
    "```\n",
    "initial_conditions = (0.98, 0.01, 0.01, 0.0)\n",
    "beta, gamma, sigma, phi  = 4, 2.75, 3, 1./15\n",
    "```\n",
    "Estimate the system from 0 to 75\n",
    "for time steps of 0.1\n",
    "\n",
    "Create three plots. One plot of the proportion of susceptibles over time\n",
    "One plot of the proportion of infected over time One plot of the\n",
    "proportion of infected over time where the ylimits of the plot are from\n",
    "0.135 to 0.140. Use the \\texttt{set\\_ylim} function to scale the\n",
    "ylimits.\n"
   ]
  },
  {
   "cell_type": "markdown",
   "metadata": {},
   "source": [
    "## HOMEWORK PROBLEM THREE-PARTI (incidence)\n",
    "\n",
    "Lets add realism to our SEIRS model by assuming that a surveillance system see only a noisy realiztions of the states of our model (S,E,I,R). \n",
    "To do this, we will assume that our surveillance system is collecting incident cases of an infectious agent $\\mathcal{D} = (y_{1}, y_{2}, y_{3}, \\cdots, y_{t})$\n",
    "that are samples from a poisson distribution with parameter \n",
    "$\\lambda(t) = \\textrm{incident\\_cases}(t)$\n",
    "where we compute $\\textrm{incident\\_cases}(t)$ from our SEIRS model.\n",
    "\n",
    "Step one of homework: computing incident cases. \n",
    "The SEIRS model above returns the proportion of prevalent infections $i(t)$ but does not return the proportion of **incident i**. \n",
    "Individuals that count towards incident cases are those that leabe E and move to I. \n",
    "We know from our model that $\\sigma E$ leave the E disease state and move to I. \n",
    "\n",
    "The proportion of cumulative incident cases can be estimated by including a new state in our system \n",
    "\\begin{align}\n",
    "    \\frac{dc}{dt} = \\sigma e\n",
    "\\end{align}\n",
    "We will also assume that at time $0$ the proportion of incident cases is equal to the proportion of prevalent cases $(i(t))$---$c(0) = i(0)$. \n",
    "\n",
    "Our new SEIRS model follows the below system of differential equations\n",
    "\n",
    "\\begin{align}\n",
    "    \\frac{ds}{dt} &= -\\beta s i + \\phi r  \\\\ \n",
    "    \\frac{de}{dt} &=  \\beta s i - \\sigma e \\\\ \n",
    "    \\frac{di}{dt} &=  \\sigma e - \\gamma i \\\\ \n",
    "    \\frac{dr}{dt} &=  \\gamma i - \\phi r \\\\\n",
    "    \\frac{dc}{dt} &= \\sigma e\\\\\n",
    "     s(0)& = S_{0}; \\; e(0) = E_{0} \\\\ \n",
    "     i(0)& = I_{0}; \\; r(0) = R_{0}; \\; c(0) = I_{0} \n",
    "\\end{align}\n",
    "\n",
    "The state $c$ returns the proportion of *cumulative* incident infections. \n",
    "If you stored the cumulative proportion of incident infections as the variable `c` then to compute the proportion of incident infecitons we can use the `numpy.diff` function and write \n",
    "```\n",
    "import numpy as np\n",
    "inc = np.diff(c)\n",
    "```\n",
    "\n",
    "Please use the above template to integrate and plot the proportion of incidenct cases for an SEIRS model with \n",
    "Parameters $\\beta = 4.$, $\\gamma = 2.75$, $\\sigma = 3.$, and $\\phi = 1/15$. \n",
    "Assume the initial conditions are $s_{0} = 0.99$, $e_{0} = 0.01$, $i_{0} = 0.01$, $r_{0} = 0.$, $c_{0} = 0.01$.\n",
    "Estimate the system from 0 to 75 for time steps of 0.1\n",
    "\n",
    "Create one plot of the proportion of incident infection over time. "
   ]
  },
  {
   "cell_type": "markdown",
   "metadata": {},
   "source": [
    "## HOMEWORK PROBLEM THREE-PARTII (Observational noise)\n",
    "\n",
    "Lets assume that our system includes $N=10^3$ individuals. \n",
    "We can compute the numnber of incident cases as\n",
    "\n",
    "\\begin{align}\n",
    "    \\textrm{num\\_inc(t)} = N \\textrm{inc}(t)\n",
    "\\end{align}\n",
    "\n",
    "Now that we have collected the number of incident cases $num\\_inc(t)$ we can add observational noise by sampling from $T$ random variables $(Y_{1}, Y_{2}, \\cdots, Y_{T})$ where \n",
    "\n",
    "\\begin{align}\n",
    "    Y_{i} \\sim \\textrm{Pois} ( \\textrm{num\\_inc}(t) )\n",
    "\\end{align}\n",
    "\n",
    "We can add observational noise to our vector of incident cases by using the function `poisson` from the package `numpy.random`. Here is the documentation for that package [https://numpy.org/doc/stable/reference/random/generated/numpy.random.poisson.html](https://numpy.org/doc/stable/reference/random/generated/numpy.random.poisson.html). \n",
    "\n",
    "\n",
    "Please create one plot that includes the true number of incident cases $\\textrm{inc}(t)$ and also one random realization of incident cases over time. "
   ]
  }
 ],
 "metadata": {
  "kernelspec": {
   "display_name": "Python 3",
   "language": "python",
   "name": "python3"
  },
  "language_info": {
   "codemirror_mode": {
    "name": "ipython",
    "version": 3
   },
   "file_extension": ".py",
   "mimetype": "text/x-python",
   "name": "python",
   "nbconvert_exporter": "python",
   "pygments_lexer": "ipython3",
   "version": "3.9.15"
  }
 },
 "nbformat": 4,
 "nbformat_minor": 4
}
